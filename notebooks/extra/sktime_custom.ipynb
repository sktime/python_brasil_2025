{
  "cells": [
    {
      "cell_type": "markdown",
      "metadata": {},
      "source": [
        "# Criando modelos customizados com sktime\n",
        "\n",
        "O sktime oferece um ecossistema robusto, mas em cenarios reais frequentemente precisamos ajustar comportamentos, incorporar dados hierarquicos ou adicionar pre-processamentos especificos.  Felizmente, o sktime torna relativamente simples a criacao de modelos customizados, desde que sigamos algumas regras.\n",
        "\n",
        "Acredito que essa e uma das grandes vantagens da biblioteca: o foco em ser extensivel e customizavel.\n",
        "\n",
        "## O sistema de tags\n",
        "\n",
        "Entre a chamada dos metodos publicos e privados existe uma camada de validacoes e conversões controlada pelas tags. Elas sinalizam ao `BaseForecaster` e ao `BaseTransformer` o que precisa ser garantido antes de executar a implementacao customizada.\n",
        "\n",
        "As tags mais importantes para um forecaster podem ser definidas assim:\n",
        "\n",
        "```python\n",
        "_tags = {\n",
        "\t\"capability:exogenous\": True,\n",
        "\t\"requires-fh-in-fit\": False,\n",
        "\t\"X_inner_mtype\": [\n",
        "\t\t\"pd.Series\",\n",
        "\t\t\"pd.DataFrame\",\n",
        "\t\t\"pd-multiindex\",\n",
        "\t\t\"pd_multiindex_hier\",\n",
        "\t],\n",
        "\t\"y_inner_mtype\": [\n",
        "\t\t\"pd.Series\",\n",
        "\t\t\"pd.DataFrame\",\n",
        "\t\t\"pd-multiindex\",\n",
        "\t\t\"pd_multiindex_hier\",\n",
        "\t]\n",
        "}\n",
        "```\n",
        "\n",
        "Cada uma delas indica o que o modelo é capaz de fazer nos seus métodos privados\n",
        "`_fit` e `_predict`:\n",
        "\n",
        "* `capability:exogenous`: Indica se o modelo suporta variáveis exógenas (X) durante o ajuste e a previsão.\n",
        "* `requires-fh-in-fit`: Indica se o modelo precisa do horizonte de previsão (fh) durante o ajuste. Alguns modelos precisam devido a sua implementação interna.\n",
        "* `y_inner_mtype`: Define os tipos de dados aceitos para a variável dependente (y) durante o ajuste e a previsão.\n",
        "* `X_inner_mtype`: Define os tipos de dados aceitos para as variáveis exógenas (X) durante o ajuste e a previsão.\n",
        "  \n",
        "Os machine-types (**mtypes**), ou tipos para máquina, são a peça mais crucial nesse sistema.\n",
        "\n",
        "### Machine-types disponiveis\n",
        "\n",
        "Os `mtypes` definem qual a estrutura de dados que o modelo aceita como entrada e produz como saída. Os principais mtypes para séries temporais são:\n",
        "\n",
        "- `np.ndarray`\n",
        "- `pd.Series`\n",
        "- `pd.DataFrame`\n",
        "- `pd-multiindex` (ideia de painel)\n",
        "- `pd_multiindex_hier` (dados hierarquicos)\n",
        "\n",
        "Se o modelo suporta um `mtype` hierárquico e passamos um dado hierárquico, o \n",
        "dado chegará normalmente ao método privado `_fit` ou `_predict`. Caso contrário, o sktime tentará converter o dado para um mtype suportado.\n",
        "\n",
        "#### Baixando exemplos por mtype\n",
        "\n",
        "Para entender melhor cada mtype, podemos baixar exemplos práticos usando a função `get_examples` do sktime:"
      ]
    },
    {
      "cell_type": "code",
      "metadata": {},
      "source": [
        "from sktime.datatypes import get_examples\n",
        "\n",
        "get_examples(mtype=\"np.ndarray\", as_scitype=\"Series\")[0]"
      ],
      "execution_count": null,
      "outputs": []
    },
    {
      "cell_type": "code",
      "metadata": {},
      "source": [
        "get_examples(mtype=\"pd.DataFrame\", as_scitype=\"Series\")[0].head()"
      ],
      "execution_count": null,
      "outputs": []
    },
    {
      "cell_type": "code",
      "metadata": {},
      "source": [
        "get_examples(mtype=\"pd-multiindex\", as_scitype=\"Panel\")[0].head()"
      ],
      "execution_count": null,
      "outputs": []
    },
    {
      "cell_type": "code",
      "metadata": {},
      "source": [
        "get_examples(mtype=\"pd_multiindex_hier\", as_scitype=\"Hierarchical\")[0].head()"
      ],
      "execution_count": null,
      "outputs": []
    },
    {
      "cell_type": "markdown",
      "metadata": {},
      "source": [
        "Alguns mtypes tem limitações: uma `pd.Series` simples nao representa problemas hierarquicos, sendo necessario recorrer ao `pd_multiindex_hier`.\n",
        "\n",
        "#### Exemplo prático\n",
        "\n",
        "Vamos criar o nosso primeiro esqueleto de forecaster customizado. Para isso, baixamos uma série de exemplo:"
      ]
    },
    {
      "cell_type": "code",
      "metadata": {},
      "source": [
        "# | echo: false\n",
        "import warnings\n",
        "\n",
        "warnings.filterwarnings(\"ignore\")"
      ],
      "execution_count": null,
      "outputs": []
    },
    {
      "cell_type": "code",
      "metadata": {},
      "source": [
        "from sktime.forecasting.base import BaseForecaster\n",
        "from sktime.utils._testing.series import _make_series\n",
        "\n",
        "y = _make_series(4)\n",
        "y"
      ],
      "execution_count": null,
      "outputs": []
    },
    {
      "cell_type": "markdown",
      "metadata": {},
      "source": [
        "Nosso protótipo irá apenas printar os dados recebidos no método `_fit`. O `__init__` recebe um dicionário de tags para definir as capacidades do modelo."
      ]
    },
    {
      "cell_type": "code",
      "metadata": {},
      "source": [
        "class Logger(BaseForecaster):\n",
        "\n",
        "    _tags = {\n",
        "        \"requires-fh-in-fit\": False,\n",
        "    }\n",
        "\n",
        "    def __init__(self, tags_to_set):\n",
        "        self.tags_to_set = tags_to_set\n",
        "        super().__init__()\n",
        "\n",
        "        self.set_tags(**tags_to_set)\n",
        "    \n",
        "    def _fit(self, y, X=None, fh=None):\n",
        "        print(\"Inside fit:\")\n",
        "        print(y)\n",
        "        return self"
      ],
      "execution_count": null,
      "outputs": []
    },
    {
      "cell_type": "code",
      "metadata": {},
      "source": [
        "logger = Logger(tags_to_set={\"y_inner_mtype\" : [\"pd.Series\"] })\n",
        "logger.fit(y)"
      ],
      "execution_count": null,
      "outputs": []
    },
    {
      "cell_type": "code",
      "metadata": {},
      "source": [
        "logger = Logger(tags_to_set={\"y_inner_mtype\" : [\"np.ndarray\"] })\n",
        "logger.fit(y)"
      ],
      "execution_count": null,
      "outputs": []
    },
    {
      "cell_type": "code",
      "metadata": {},
      "source": [
        "logger = Logger(tags_to_set={\"y_inner_mtype\" : [\"pd.DataFrame\"] })\n",
        "logger.fit(y)"
      ],
      "execution_count": null,
      "outputs": []
    },
    {
      "cell_type": "code",
      "metadata": {},
      "source": [
        "try:\n",
        "    logger = Logger(tags_to_set={\"y_inner_mtype\" : [\"pd_multiindex_hier\"] })\n",
        "    logger.fit(y)\n",
        "except ValueError as e:\n",
        "    print(e)"
      ],
      "execution_count": null,
      "outputs": []
    },
    {
      "cell_type": "code",
      "metadata": {},
      "source": [
        "try:\n",
        "    logger = Logger(tags_to_set={\"y_inner_mtype\": [\"pd.DataFrame\", \"pd_multiindex_hier\"]})\n",
        "    logger.fit(y)\n",
        "except ValueError as e:\n",
        "    print(e)"
      ],
      "execution_count": null,
      "outputs": []
    },
    {
      "cell_type": "markdown",
      "metadata": {},
      "source": [
        "#### Input hierárquico\n",
        "\n",
        "Agora veremos como o modelo se comporta com dados hierárquicos. Note que, nos casos onde o modelo não suporta dados hierárquicos, o sktime tentará convertê-los para um mtype suportado."
      ]
    },
    {
      "cell_type": "code",
      "metadata": {},
      "source": [
        "from sktime.utils._testing.hierarchical import _make_hierarchical\n",
        "\n",
        "y = _make_hierarchical((1,2), max_timepoints=4, min_timepoints=2)\n",
        "y"
      ],
      "execution_count": null,
      "outputs": []
    },
    {
      "cell_type": "code",
      "metadata": {},
      "source": [
        "logger = Logger(tags_to_set={\"y_inner_mtype\" : [\"pd.Series\"] })\n",
        "logger.fit(y)"
      ],
      "execution_count": null,
      "outputs": []
    },
    {
      "cell_type": "code",
      "metadata": {},
      "source": [
        "logger = Logger(tags_to_set={\"y_inner_mtype\" : [\"np.ndarray\"] })\n",
        "logger.fit(y)"
      ],
      "execution_count": null,
      "outputs": []
    },
    {
      "cell_type": "code",
      "metadata": {},
      "source": [
        "logger = Logger(tags_to_set={\"y_inner_mtype\" : [\"pd.DataFrame\"] })\n",
        "logger.fit(y)"
      ],
      "execution_count": null,
      "outputs": []
    },
    {
      "cell_type": "code",
      "metadata": {},
      "source": [
        "try:\n",
        "    logger = Logger(tags_to_set={\"y_inner_mtype\": [\"pd_multiindex_hier\"]})\n",
        "    logger.fit(y)\n",
        "except ValueError as e:\n",
        "    print(e)"
      ],
      "execution_count": null,
      "outputs": []
    },
    {
      "cell_type": "markdown",
      "metadata": {},
      "source": [
        "## Criando um modelo naive\n",
        "\n",
        "Agora, vamos implementar um modelo simples de previsão, o `CustomNaiveForecaster`, que prevê o valor médio dos últimos n pontos da série temporal.\n",
        "\n",
        "É um exemplo simples, mas que ilustra bem como criar um forecaster customizado com sktime."
      ]
    },
    {
      "cell_type": "code",
      "metadata": {},
      "source": [
        "from tsbook.datasets.retail import SyntheticRetail\n",
        "\n",
        "dataset = SyntheticRetail(\"panel\")\n",
        "y_train, y_test  = dataset.load(\"y_train\", \"y_test\")\n",
        "y_train"
      ],
      "execution_count": null,
      "outputs": []
    },
    {
      "cell_type": "code",
      "metadata": {},
      "source": [
        "from sktime.utils.plotting import plot_series\n",
        "\n",
        "plot_series(\n",
        "    y_train.loc[0],\n",
        "    y_train.loc[24],\n",
        "    labels=[\n",
        "        \"SKU 0\",\n",
        "        \"SKU 24\",\n",
        "    ],\n",
        ")"
      ],
      "execution_count": null,
      "outputs": []
    },
    {
      "cell_type": "markdown",
      "metadata": {},
      "source": [
        "Abaixo, implementamos o `CustomNaiveForecaster` seguindo as regras do sktime (clique para expandir). Em seguida, explicamos passo a passo."
      ]
    },
    {
      "cell_type": "code",
      "metadata": {},
      "source": [
        "# | code-fold: true\n",
        "from sktime.forecasting.base import BaseForecaster\n",
        "import pandas as pd\n",
        "\n",
        "\n",
        "class CustomNaiveForecaster(BaseForecaster):\n",
        "    \"\"\"\n",
        "    A simple naive forecaster\n",
        "\n",
        "    Parameters\n",
        "    ----------\n",
        "    n : int\n",
        "        Number of past values to use.\n",
        "    \"\"\"\n",
        "\n",
        "    _tags = {\n",
        "        \"requires-fh-in-fit\": False,\n",
        "        \"y_inner_mtype\": [\n",
        "            \"pd.Series\",\n",
        "        ],\n",
        "    }\n",
        "\n",
        "    # Add hyperparameters in init!\n",
        "    def __init__(self, n=1):\n",
        "        # 1. Set hyper-parameters\n",
        "        self.n = n\n",
        "\n",
        "        # 2. Initialize parent class\n",
        "        super().__init__()\n",
        "\n",
        "        # 3. Check hyper-parameters\n",
        "        assert self.n > 0, \"n must be greater than 0\"\n",
        "\n",
        "    def _fit(self, y, X, fh):\n",
        "        \"\"\"\n",
        "        Fit necessary parameters.\n",
        "        \"\"\"\n",
        "\n",
        "        self.value_ = y.iloc[-self.n :].mean()\n",
        "        return self\n",
        "\n",
        "    def _predict(self, fh, X):\n",
        "        \"\"\"\n",
        "        Use forecasting horizon and optionally X to predict y\n",
        "        \"\"\"\n",
        "\n",
        "        # During fit, BaseForecaster sets\n",
        "        # self.cutoff to the latest cutoff time point\n",
        "        index = fh.to_absolute_index(self.cutoff)\n",
        "        y_pred = pd.Series(\n",
        "            index=index,\n",
        "            data=[self.value_ for _ in range(len(index))],\n",
        "        )\n",
        "        y_pred.name = self._y.name\n",
        "\n",
        "        return y_pred\n",
        "\n",
        "    # Veremos mais tarde como usar esse método\n",
        "    @classmethod\n",
        "    def get_test_params(cls, parameter_set=\"default\"):\n",
        "        return [\n",
        "            {\"n\": 1},\n",
        "            {\"n\": 2},\n",
        "        ]"
      ],
      "execution_count": null,
      "outputs": []
    },
    {
      "cell_type": "markdown",
      "metadata": {},
      "source": [
        "### Definindo o método `__init__`\n",
        "\n",
        "O método `__init__` possui 3 etapas:\n",
        "\n",
        "1. A definição dos hiperparametros e seus atributos com mesmo nome.\n",
        "2. A chamada do `super().__init__()` para inicializar a classe pai.\n",
        "3. A validação dos hiperparâmetros.\n",
        "   \n",
        "\n",
        "\n",
        "```python\n",
        "# Add hyperparameters in init!\n",
        "def __init__(self, n=1):\n",
        "    # 1. Set hyper-parameters\n",
        "    self.n = n\n",
        "\n",
        "    # 2. Initialize parent class\n",
        "    super().__init__()\n",
        "\n",
        "    # 3. Check hyper-parameters\n",
        "    assert self.n > 0, \"n must be greater than 0\"\n",
        "```\n",
        "\n",
        "No caso de algum preprocessamento dos hiperparâmetros no `__init__`, devemos guardar em uma variável com nome diferente do hiperparâmetro. Por exemplo, se tivéssemos interesse em ter um atributo `n` diferente do passado no `__init__`, poderíamos fazer:\n",
        "\n",
        "```\n",
        "self._n = n + 1\n",
        "```\n",
        "\n",
        "O `self.n` funciona como uma digital do modelo, e deve ser exatamente o que foi passado no `__init__`.\n",
        "\n",
        "### Definindo o método `_fit`\n",
        "\n",
        "No método `_fit`, devemos implementar a lógica de ajuste do modelo. No nosso caso, calculamos a média dos últimos `n` valores e armazenamos em `self.value_`.\n",
        "\n",
        "O `_` após o nome do atributo indica que é um atributo aprendido durante o ajuste, e será retornado quando chamarmos `get_fitted_params()`.\n",
        "\n",
        "Note que podemos supor que `y` é do tipo definido na tag `y_inner_mtype`, ou seja, uma `pd.Series`.\n",
        "\n",
        "### Definindo o método `_predict`\n",
        "\n",
        "No método `_predict`, implementamos a lógica de previsão. Usamos o horizonte de previsão `fh` para determinar os índices futuros e retornamos uma série com o valor previsto para cada ponto no horizonte.\n",
        "\n",
        "O `fh` é um objeto do tipo `ForecastingHorizon`, que possui o método `to_absolute_index(cutoff)` para converter o horizonte relativo em índices absolutos, considerando o último ponto conhecido (`self.cutoff`).\n",
        "\n",
        "Retornamos um `pd.Series` com os índices e os valores previstos.\n",
        "\n",
        "### Usando o `CustomNaiveForecaster`\n",
        "\n",
        "Agora, já podemos usar o nosso modelo customizado para fazer previsões."
      ]
    },
    {
      "cell_type": "code",
      "metadata": {},
      "source": [
        "custom_naive_model = CustomNaiveForecaster()\n",
        "custom_naive_model.fit(y_train)"
      ],
      "execution_count": null,
      "outputs": []
    },
    {
      "cell_type": "markdown",
      "metadata": {},
      "source": [
        "Como passamos um dado hierárquico, o sktime converteu automaticamente para `pd.Series`, que é o mtype suportado pelo nosso modelo. Os modelos internos, para cada série, ficam disponíveis em `forecasters_`."
      ]
    },
    {
      "cell_type": "code",
      "metadata": {},
      "source": [
        "custom_naive_model.forecasters_"
      ],
      "execution_count": null,
      "outputs": []
    },
    {
      "cell_type": "code",
      "metadata": {},
      "source": [
        "y_pred = custom_naive_model.predict(fh=y_test.index.get_level_values(-1).unique())\n",
        "\n",
        "fig, _ = plot_series(\n",
        "    y_train.loc[0],\n",
        "    y_pred.loc[0],\n",
        "    labels=[\n",
        "        \"SKU 0\",\n",
        "        \"Previsão SKU 0\",\n",
        "    ],\n",
        ")\n",
        "fig.show()"
      ],
      "execution_count": null,
      "outputs": []
    },
    {
      "cell_type": "markdown",
      "metadata": {},
      "source": [
        "## Testes unitários\n",
        "\n",
        "O sktime também fornece uma funcionalidade que traz testes unitários prontos para validar se o modelo customizado está funcionando corretamente.\n",
        "\n",
        "Ele usa os hiperparâmetros retornados pelo método `get_test_params` para criar instâncias do modelo e executar uma série de testes."
      ]
    },
    {
      "cell_type": "code",
      "metadata": {},
      "source": [
        "from sktime.utils.estimator_checks import check_estimator\n",
        "\n",
        "\n",
        "check_estimator(CustomNaiveForecaster, tests_to_exclude=[\"test_doctest_examples\"])"
      ],
      "execution_count": null,
      "outputs": []
    }
  ],
  "metadata": {
    "kernelspec": {
      "name": "python3",
      "language": "python",
      "display_name": "Python 3 (ipykernel)",
      "path": "/Users/felipeangelim/Workspace/python_brasil_2025/.venv/share/jupyter/kernels/python3"
    }
  },
  "nbformat": 4,
  "nbformat_minor": 4
}