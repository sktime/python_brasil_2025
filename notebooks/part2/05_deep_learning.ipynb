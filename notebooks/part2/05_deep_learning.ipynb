{
  "cells": [
    {
      "cell_type": "markdown",
      "metadata": {},
      "source": [
        "## Modelos de deep learning e zero-shot forecasting\n",
        "\n",
        "Além de modelos de ML simples, também podemos usar modelos de deep learning para forecasting. Podemos com certeza usar uma rede neural simples como um regressor, assim como fizemos com os modelos de ML tradicionais. No entanto, existem alguns modelos com arquiteturas específicas para forecasting de séries temporais. Por exemplo, o N-BEATS é um modelo de deep learning que pode ser usado para forecasting.\n",
        "\n",
        "::: {.callout-tip}\n",
        "\n",
        "Importante notar que esse livro/tutorial tem o objetivo de ser curto e prático, então não entraremos em muitos detalhes sobre deep learning ou sobre todos métodos\n",
        "existentes. \n",
        "\n",
        ":::\n"
      ]
    },
    {
      "cell_type": "code",
      "metadata": {},
      "source": [
        "# | echo: false\n",
        "import warnings\n",
        "\n",
        "warnings.filterwarnings(\"ignore\")"
      ],
      "execution_count": null,
      "outputs": []
    },
    {
      "cell_type": "code",
      "metadata": {},
      "source": [
        "# | code-fold: true\n",
        "import pandas as pd\n",
        "import matplotlib.pyplot as plt\n",
        "\n",
        "from sktime.utils.plotting import plot_series"
      ],
      "execution_count": null,
      "outputs": []
    },
    {
      "cell_type": "code",
      "metadata": {},
      "source": [
        "# | code-fold: true\n",
        "\n",
        "from tsbook.datasets.retail import SyntheticRetail\n",
        "\n",
        "dataset = SyntheticRetail(\"panel\")\n",
        "y_train, X_train, y_test, X_test = dataset.load(\n",
        "    \"y_train\", \"X_train\", \"y_test\", \"X_test\"\n",
        ")\n",
        "\n",
        "fh = y_test.index.get_level_values(-1).unique()"
      ],
      "execution_count": null,
      "outputs": []
    },
    {
      "cell_type": "markdown",
      "metadata": {},
      "source": [
        "## N-Beats\n",
        "  \n",
        " N-BEATS é um modelo de séries temporais totalmente baseado em camadas densas (MLP)—nada de RNN/LSTM nem convolução. Ele pega uma janela do passado e entrega diretamente a previsão do futuro, aprendendo padrões como tendência e sazonalidade de forma pura, só com perceptrons.\n",
        "\n",
        "\n",
        "O N-BEATS usa bases para construir sinais interpretáveis:\n",
        "\n",
        "* Base de tendência: combina funções polinomiais (captura subidas/descidas suaves).\n",
        "* Base sazonal: combina senos/cossenos (captura repetições periódicas).\n",
        "* Base genérica: aprende formas livres (sem pressupor forma analítica).\n",
        "\n",
        "Assim, internamente, ele determina os coeficientes das funções base para modelar a série temporal, baseado no histórico observado, fazendo uma espécie de meta-aprendizado interno.\n",
        "\n",
        "Os blocos são empilhados e executados de forma sucessiva. Pense numa fila de especialistas olhando a mesma janela do passado:\n",
        "\n",
        "* Cada um explica a sua parte do que viu (remove do passado o que já foi entendido = backcast), e propõe um pedaço da previsão (seu forecast).\n",
        "* O que não foi explicado segue para o próximo especialista. No final, a previsão é a soma do que cada um sugeriu.\n",
        "\n",
        "![](img/nbeats_simplified.png)\n",
        "\n",
        "\n",
        "### Pytorch Forecasting\n",
        "\n",
        "O Sktime nao é uma biblioteca especializada em deep learning, mas sim uma API\n",
        "uniforme que provê acesso aos mais diversos algoritmos.\n",
        "\n",
        "Logo, também provemos acesso a bibliotecas especializadas em deep learning, como o\n",
        "Pytorch Forecasting, que implementa o N-BEATS.\n",
        "\n",
        "Aqui, temos que definir os hiperparâmetros do modelo, como o número de blocos, o tamanho do contexto (janela de entrada), e o número de coeficientes para as funcões de base."
      ]
    },
    {
      "cell_type": "code",
      "metadata": {},
      "source": [
        "from sktime.forecasting.pytorchforecasting import PytorchForecastingNBeats\n",
        "from pytorch_forecasting.data.encoders import EncoderNormalizer\n",
        "\n",
        "CONTEXT_LENGTH = 120\n",
        "nbeats = PytorchForecastingNBeats(\n",
        "    train_to_dataloader_params={\"batch_size\": 256},\n",
        "    trainer_params={\"max_epochs\": 1},\n",
        "    model_params={\n",
        "        \"stack_types\": [\"trend\", \"seasonality\"], # One of the following values: “generic”, “seasonality” or “trend”.\n",
        "        \"num_blocks\" : [2,2], # The number of blocks per stack. \n",
        "        \"context_length\": CONTEXT_LENGTH, # lookback period\n",
        "        \"expansion_coefficient_lengths\" : [2, 5],\n",
        "        \"learning_rate\": 1e-3,\n",
        "    },\n",
        "    dataset_params={\n",
        "\n",
        "        \"max_encoder_length\": CONTEXT_LENGTH,\n",
        "        \"target_normalizer\": EncoderNormalizer()\n",
        "    },\n",
        ")\n",
        "\n",
        "nbeats.fit(y_train.astype(float), fh=fh)"
      ],
      "execution_count": null,
      "outputs": []
    },
    {
      "cell_type": "code",
      "metadata": {},
      "source": [
        "y_pred_nbeats = nbeats.predict(fh=fh, X=X_test)"
      ],
      "execution_count": null,
      "outputs": []
    },
    {
      "cell_type": "code",
      "metadata": {},
      "source": [
        "from sktime.performance_metrics.forecasting import MeanSquaredScaledError\n",
        "\n",
        "metric = MeanSquaredScaledError(multilevel=\"uniform_average_time\")\n",
        "metric(y_true=y_test, y_pred=y_pred_nbeats, y_train=y_train)"
      ],
      "execution_count": null,
      "outputs": []
    },
    {
      "cell_type": "markdown",
      "metadata": {},
      "source": [
        "Agora, podemos visualizar o forecast para uma das séries. Vemos que, mesmo\n",
        "com poucas épocas de treinamento ou tuning, o N-BEATS já consegue capturar a tendência."
      ]
    },
    {
      "cell_type": "code",
      "metadata": {},
      "source": [
        "fig, ax = plt.subplots(figsize=(10, 4))\n",
        "y_train.loc[10].plot(ax=ax, label=\"Train\")\n",
        "y_test.loc[10].plot(ax=ax, label=\"Test\")\n",
        "y_pred_nbeats.loc[10].plot(ax=ax, label=\"N-BEATS\")\n",
        "fig.show()"
      ],
      "execution_count": null,
      "outputs": []
    },
    {
      "cell_type": "markdown",
      "metadata": {},
      "source": [
        "## Zero-shot forecasting com N-BEATS\n",
        "\n",
        "Zero-shot forecasting se refere ao fato de fazer previsão para uma série jamais\n",
        "vista pelo modeo, sem utilizar a série para treinar ou ajustar parâmetros dele.\n",
        "\n",
        "Aqui, para simular esse cenário, vamos criar uma nova série temporal combinando duas séries do conjunto de treino."
      ]
    },
    {
      "cell_type": "code",
      "metadata": {},
      "source": [
        "new_y_train = (y_train.loc[0]**2 + y_train.loc[20]).astype(float)\n",
        "new_y_test = (y_test.loc[0]**2 + y_test.loc[20]).astype(float)\n",
        "\n",
        "# Plotting the new series\n",
        "fig, ax = plt.subplots(figsize=(10, 4))\n",
        "new_y_train[\"sales\"].plot.line(ax=ax, label=\"New Train\")\n",
        "new_y_test[\"sales\"].plot.line(ax=ax, label=\"New Test\")\n",
        "fig.show()"
      ],
      "execution_count": null,
      "outputs": []
    },
    {
      "cell_type": "markdown",
      "metadata": {},
      "source": [
        "Na interface atual do sktime, usamos o argumento `y` do método `predict` para passar a nova série temporal para o modelo:"
      ]
    },
    {
      "cell_type": "code",
      "metadata": {},
      "source": [
        "y_pred_zeroshot = nbeats.predict(fh=fh, y=new_y_train)"
      ],
      "execution_count": null,
      "outputs": []
    },
    {
      "cell_type": "code",
      "metadata": {},
      "source": [
        "fig, ax = plt.subplots(figsize=(10, 4))\n",
        "new_y_train[\"sales\"].plot.line(ax=ax, label=\"New Train\")\n",
        "new_y_test[\"sales\"].plot.line(ax=ax, label=\"New Test\")\n",
        "y_pred_zeroshot[\"sales\"].plot.line(ax=ax, label=\"N-BEATS Zero-shot\")\n",
        "plt.legend()\n",
        "plt.show()"
      ],
      "execution_count": null,
      "outputs": []
    }
  ],
  "metadata": {
    "kernelspec": {
      "name": "python3",
      "language": "python",
      "display_name": "Python 3 (ipykernel)",
      "path": "/Users/felipeangelim/Workspace/python_brasil_2025/.venv/share/jupyter/kernels/python3"
    }
  },
  "nbformat": 4,
  "nbformat_minor": 4
}