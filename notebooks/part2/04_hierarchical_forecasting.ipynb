{
  "cells": [
    {
      "cell_type": "markdown",
      "metadata": {},
      "source": [
        "# Forecasting Hierárquico\n",
        "\n",
        "Muitas vezes, não apenas temos múltiplas séries temporais, mas essas séries também estão organizadas em uma hierarquia. Por exemplo, vendas de produtos podem ser organizadas por SKU, categoria, departamento e total da loja.\n",
        "\n",
        "Vamos usar o mesmo dataset sintético, mas agora com uma hierarquia de produtos.\n",
        "\n",
        "```{mermaid}\n",
        "\n",
        "graph TD\n",
        "  root[\"__total\"]\n",
        "\n",
        "  %% group -1\n",
        "  root --> g_minus1[\"-1\"]\n",
        "  g_minus1 --> sku20[\"20\"]\n",
        "  g_minus1 --> sku21[\"21\"]\n",
        "  g_minus1 --> sku22[\"22\"]\n",
        "  g_minus1 --> sku23[\"23\"]\n",
        "  g_minus1 --> sku24[\"24\"]\n",
        "\n",
        "  %% group 0\n",
        "  root --> g0[\"0\"]\n",
        "  g0 --> sku0[\"0\"]\n",
        "  g0 --> sku1[\"1\"]\n",
        "  g0 --> sku2[\"2\"]\n",
        "  g0 --> sku3[\"3\"]\n",
        "  g0 --> sku4[\"4\"]\n",
        "\n",
        "  %% group 1\n",
        "  root --> g1[\"...\"]\n",
        "\n",
        "  \n",
        "  %% group 3\n",
        "  root --> g3[\"3\"]\n",
        "  g3 --> sku15[\"15\"]\n",
        "  g3 --> sku16[\"16\"]\n",
        "  g3 --> sku17[\"17\"]\n",
        "  g3 --> sku18[\"18\"]\n",
        "  g3 --> sku19[\"19\"]\n",
        "```\n",
        "\n",
        "\n",
        "Ao mesmo tempo que dados hierarárquicos são interessantes pois nos trazem mais informação, eles também trazem desafios adicionais. Imagine que queremos prever as vendas futuras de cada produto. Se fizermos previsões independetes para cada produto, não há garantia que a soma das previsões dos produtos será igual à previsão do total da loja. Isso é chamado de incoerência nas previsões hierárquicas. O processo de ajustar as previsões para garantir coerência é chamado de **reconciliação**.\n",
        "\n",
        "## Carregando dados\n",
        "\n",
        "Vamos usar os dados sintéticos, agora com sua versao hierárquica."
      ]
    },
    {
      "cell_type": "code",
      "execution_count": 1,
      "metadata": {},
      "outputs": [],
      "source": [
        "# | echo: false\n",
        "\n",
        "import warnings\n",
        "import pandas as pd\n",
        "import matplotlib.pyplot as plt\n",
        "\n",
        "warnings.filterwarnings(\"ignore\")"
      ]
    },
    {
      "cell_type": "code",
      "execution_count": 2,
      "metadata": {},
      "outputs": [],
      "source": [
        "from tsbook.datasets.retail import SyntheticRetail\n",
        "\n",
        "dataset = SyntheticRetail(\"hierarchical\")\n",
        "y_train, X_train, y_test, X_test = dataset.load(\"y_train\", \"X_train\", \"y_test\", \"X_test\")"
      ]
    },
    {
      "cell_type": "markdown",
      "metadata": {},
      "source": [
        "## Uso de pandas e dados hierárquicos\n",
        "\n",
        "Agora, os dataframes possuem mais de 2 ou mais índices, representando a hierarquia."
      ]
    },
    {
      "cell_type": "code",
      "execution_count": 3,
      "metadata": {},
      "outputs": [
        {
          "data": {
            "text/html": [
              "<div>\n",
              "<style scoped>\n",
              "    .dataframe tbody tr th:only-of-type {\n",
              "        vertical-align: middle;\n",
              "    }\n",
              "\n",
              "    .dataframe tbody tr th {\n",
              "        vertical-align: top;\n",
              "    }\n",
              "\n",
              "    .dataframe thead th {\n",
              "        text-align: right;\n",
              "    }\n",
              "</style>\n",
              "<table border=\"1\" class=\"dataframe\">\n",
              "  <thead>\n",
              "    <tr style=\"text-align: right;\">\n",
              "      <th></th>\n",
              "      <th></th>\n",
              "      <th></th>\n",
              "      <th>sales</th>\n",
              "    </tr>\n",
              "    <tr>\n",
              "      <th>group_id</th>\n",
              "      <th>sku_id</th>\n",
              "      <th>date</th>\n",
              "      <th></th>\n",
              "    </tr>\n",
              "  </thead>\n",
              "  <tbody>\n",
              "    <tr>\n",
              "      <th rowspan=\"5\" valign=\"top\">-1</th>\n",
              "      <th rowspan=\"5\" valign=\"top\">20</th>\n",
              "      <th>2020-01-01</th>\n",
              "      <td>0</td>\n",
              "    </tr>\n",
              "    <tr>\n",
              "      <th>2020-01-02</th>\n",
              "      <td>0</td>\n",
              "    </tr>\n",
              "    <tr>\n",
              "      <th>2020-01-03</th>\n",
              "      <td>0</td>\n",
              "    </tr>\n",
              "    <tr>\n",
              "      <th>2020-01-04</th>\n",
              "      <td>0</td>\n",
              "    </tr>\n",
              "    <tr>\n",
              "      <th>2020-01-05</th>\n",
              "      <td>2</td>\n",
              "    </tr>\n",
              "    <tr>\n",
              "      <th>...</th>\n",
              "      <th>...</th>\n",
              "      <th>...</th>\n",
              "      <td>...</td>\n",
              "    </tr>\n",
              "    <tr>\n",
              "      <th rowspan=\"5\" valign=\"top\">__total</th>\n",
              "      <th rowspan=\"5\" valign=\"top\">__total</th>\n",
              "      <th>2024-07-01</th>\n",
              "      <td>2000</td>\n",
              "    </tr>\n",
              "    <tr>\n",
              "      <th>2024-07-02</th>\n",
              "      <td>1616</td>\n",
              "    </tr>\n",
              "    <tr>\n",
              "      <th>2024-07-03</th>\n",
              "      <td>1917</td>\n",
              "    </tr>\n",
              "    <tr>\n",
              "      <th>2024-07-04</th>\n",
              "      <td>2384</td>\n",
              "    </tr>\n",
              "    <tr>\n",
              "      <th>2024-07-05</th>\n",
              "      <td>2462</td>\n",
              "    </tr>\n",
              "  </tbody>\n",
              "</table>\n",
              "<p>51088 rows × 1 columns</p>\n",
              "</div>"
            ],
            "text/plain": [
              "                             sales\n",
              "group_id sku_id  date             \n",
              "-1       20      2020-01-01      0\n",
              "                 2020-01-02      0\n",
              "                 2020-01-03      0\n",
              "                 2020-01-04      0\n",
              "                 2020-01-05      2\n",
              "...                            ...\n",
              "__total  __total 2024-07-01   2000\n",
              "                 2024-07-02   1616\n",
              "                 2024-07-03   1917\n",
              "                 2024-07-04   2384\n",
              "                 2024-07-05   2462\n",
              "\n",
              "[51088 rows x 1 columns]"
            ]
          },
          "execution_count": 3,
          "metadata": {},
          "output_type": "execute_result"
        }
      ],
      "source": [
        "y_train"
      ]
    },
    {
      "cell_type": "markdown",
      "metadata": {},
      "source": [
        "Para obter o número de pontos de série únicos (séries temporais individuais), podemos fazer o seguinte:"
      ]
    },
    {
      "cell_type": "code",
      "execution_count": 4,
      "metadata": {},
      "outputs": [
        {
          "data": {
            "text/plain": [
              "31"
            ]
          },
          "execution_count": 4,
          "metadata": {},
          "output_type": "execute_result"
        }
      ],
      "source": [
        "y_train.index.droplevel(-1).nunique()"
      ]
    },
    {
      "cell_type": "markdown",
      "metadata": {},
      "source": [
        "Note que existem algumas séries com um identificador `__total`. Esse identificador representa o total para aquele nível da hierarquia. Por exemplo, se o id completo é `(-1, \"__total\")`, isso representa o total do grupo -1."
      ]
    },
    {
      "cell_type": "code",
      "execution_count": 5,
      "metadata": {},
      "outputs": [
        {
          "data": {
            "text/html": [
              "<div>\n",
              "<style scoped>\n",
              "    .dataframe tbody tr th:only-of-type {\n",
              "        vertical-align: middle;\n",
              "    }\n",
              "\n",
              "    .dataframe tbody tr th {\n",
              "        vertical-align: top;\n",
              "    }\n",
              "\n",
              "    .dataframe thead th {\n",
              "        text-align: right;\n",
              "    }\n",
              "</style>\n",
              "<table border=\"1\" class=\"dataframe\">\n",
              "  <thead>\n",
              "    <tr style=\"text-align: right;\">\n",
              "      <th></th>\n",
              "      <th>sales</th>\n",
              "    </tr>\n",
              "    <tr>\n",
              "      <th>date</th>\n",
              "      <th></th>\n",
              "    </tr>\n",
              "  </thead>\n",
              "  <tbody>\n",
              "    <tr>\n",
              "      <th>2020-01-01</th>\n",
              "      <td>4</td>\n",
              "    </tr>\n",
              "    <tr>\n",
              "      <th>2020-01-02</th>\n",
              "      <td>2</td>\n",
              "    </tr>\n",
              "    <tr>\n",
              "      <th>2020-01-03</th>\n",
              "      <td>3</td>\n",
              "    </tr>\n",
              "    <tr>\n",
              "      <th>2020-01-04</th>\n",
              "      <td>14</td>\n",
              "    </tr>\n",
              "    <tr>\n",
              "      <th>2020-01-05</th>\n",
              "      <td>16</td>\n",
              "    </tr>\n",
              "  </tbody>\n",
              "</table>\n",
              "</div>"
            ],
            "text/plain": [
              "            sales\n",
              "date             \n",
              "2020-01-01      4\n",
              "2020-01-02      2\n",
              "2020-01-03      3\n",
              "2020-01-04     14\n",
              "2020-01-05     16"
            ]
          },
          "execution_count": 5,
          "metadata": {},
          "output_type": "execute_result"
        }
      ],
      "source": [
        "y_train.loc[(-1, \"__total\")].head()"
      ]
    },
    {
      "cell_type": "markdown",
      "metadata": {},
      "source": [
        "O total de todas as séries é representado por `(\"__total\", \"__total\")`."
      ]
    },
    {
      "cell_type": "code",
      "execution_count": 6,
      "metadata": {},
      "outputs": [
        {
          "data": {
            "text/html": [
              "<div>\n",
              "<style scoped>\n",
              "    .dataframe tbody tr th:only-of-type {\n",
              "        vertical-align: middle;\n",
              "    }\n",
              "\n",
              "    .dataframe tbody tr th {\n",
              "        vertical-align: top;\n",
              "    }\n",
              "\n",
              "    .dataframe thead th {\n",
              "        text-align: right;\n",
              "    }\n",
              "</style>\n",
              "<table border=\"1\" class=\"dataframe\">\n",
              "  <thead>\n",
              "    <tr style=\"text-align: right;\">\n",
              "      <th></th>\n",
              "      <th>sales</th>\n",
              "    </tr>\n",
              "    <tr>\n",
              "      <th>date</th>\n",
              "      <th></th>\n",
              "    </tr>\n",
              "  </thead>\n",
              "  <tbody>\n",
              "    <tr>\n",
              "      <th>2020-01-01</th>\n",
              "      <td>24</td>\n",
              "    </tr>\n",
              "    <tr>\n",
              "      <th>2020-01-02</th>\n",
              "      <td>19</td>\n",
              "    </tr>\n",
              "    <tr>\n",
              "      <th>2020-01-03</th>\n",
              "      <td>14</td>\n",
              "    </tr>\n",
              "    <tr>\n",
              "      <th>2020-01-04</th>\n",
              "      <td>23</td>\n",
              "    </tr>\n",
              "    <tr>\n",
              "      <th>2020-01-05</th>\n",
              "      <td>23</td>\n",
              "    </tr>\n",
              "    <tr>\n",
              "      <th>...</th>\n",
              "      <td>...</td>\n",
              "    </tr>\n",
              "    <tr>\n",
              "      <th>2024-07-01</th>\n",
              "      <td>2000</td>\n",
              "    </tr>\n",
              "    <tr>\n",
              "      <th>2024-07-02</th>\n",
              "      <td>1616</td>\n",
              "    </tr>\n",
              "    <tr>\n",
              "      <th>2024-07-03</th>\n",
              "      <td>1917</td>\n",
              "    </tr>\n",
              "    <tr>\n",
              "      <th>2024-07-04</th>\n",
              "      <td>2384</td>\n",
              "    </tr>\n",
              "    <tr>\n",
              "      <th>2024-07-05</th>\n",
              "      <td>2462</td>\n",
              "    </tr>\n",
              "  </tbody>\n",
              "</table>\n",
              "<p>1648 rows × 1 columns</p>\n",
              "</div>"
            ],
            "text/plain": [
              "            sales\n",
              "date             \n",
              "2020-01-01     24\n",
              "2020-01-02     19\n",
              "2020-01-03     14\n",
              "2020-01-04     23\n",
              "2020-01-05     23\n",
              "...           ...\n",
              "2024-07-01   2000\n",
              "2024-07-02   1616\n",
              "2024-07-03   1917\n",
              "2024-07-04   2384\n",
              "2024-07-05   2462\n",
              "\n",
              "[1648 rows x 1 columns]"
            ]
          },
          "execution_count": 6,
          "metadata": {},
          "output_type": "execute_result"
        }
      ],
      "source": [
        "y_train.loc[(\"__total\", \"__total\")]"
      ]
    },
    {
      "cell_type": "markdown",
      "metadata": {},
      "source": [
        "Para contabilizar o número de séries temporais individuais, podemos fazer o seguinte:"
      ]
    },
    {
      "cell_type": "code",
      "execution_count": 7,
      "metadata": {},
      "outputs": [
        {
          "data": {
            "text/plain": [
              "31"
            ]
          },
          "execution_count": 7,
          "metadata": {},
          "output_type": "execute_result"
        }
      ],
      "source": [
        "y_train.index.droplevel(-1).nunique()"
      ]
    },
    {
      "cell_type": "markdown",
      "metadata": {},
      "source": [
        "## Previsão sem reconciliação\n",
        "\n",
        "Vamos fazer uma previsão e entender o problema da incoerência."
      ]
    },
    {
      "cell_type": "code",
      "execution_count": 8,
      "metadata": {},
      "outputs": [],
      "source": [
        "fh = y_test.index.get_level_values(-1).unique()"
      ]
    },
    {
      "cell_type": "code",
      "execution_count": 9,
      "metadata": {},
      "outputs": [],
      "source": [
        "from tsbook.forecasting.reduction import ReductionForecaster\n",
        "from lightgbm import LGBMRegressor\n",
        "\n",
        "forecaster = ReductionForecaster(\n",
        "    LGBMRegressor(n_estimators=100, verbose=-1, objective=\"tweedie\", random_state=42),\n",
        "    window_length=30,\n",
        "    normalization_strategy=\"divide_mean\",\n",
        ")\n",
        "forecaster.fit(y_train, X=X_train)\n",
        "y_pred = forecaster.predict(fh, X=X_test)"
      ]
    },
    {
      "cell_type": "markdown",
      "metadata": {},
      "source": [
        "Para somar as previsões de baixo para cima, podemos usar o transformador `Aggregator`. Vamos ver que,\n",
        "quando somarmos as previsões das séries filhas, o resultado não é igual à previsão da série total."
      ]
    },
    {
      "cell_type": "code",
      "execution_count": 10,
      "metadata": {},
      "outputs": [
        {
          "data": {
            "text/html": [
              "<div>\n",
              "<style scoped>\n",
              "    .dataframe tbody tr th:only-of-type {\n",
              "        vertical-align: middle;\n",
              "    }\n",
              "\n",
              "    .dataframe tbody tr th {\n",
              "        vertical-align: top;\n",
              "    }\n",
              "\n",
              "    .dataframe thead th {\n",
              "        text-align: right;\n",
              "    }\n",
              "</style>\n",
              "<table border=\"1\" class=\"dataframe\">\n",
              "  <thead>\n",
              "    <tr style=\"text-align: right;\">\n",
              "      <th></th>\n",
              "      <th></th>\n",
              "      <th></th>\n",
              "      <th>sales</th>\n",
              "    </tr>\n",
              "    <tr>\n",
              "      <th>group_id</th>\n",
              "      <th>sku_id</th>\n",
              "      <th>date</th>\n",
              "      <th></th>\n",
              "    </tr>\n",
              "  </thead>\n",
              "  <tbody>\n",
              "    <tr>\n",
              "      <th rowspan=\"5\" valign=\"top\">-1</th>\n",
              "      <th rowspan=\"5\" valign=\"top\">20</th>\n",
              "      <th>2024-07-06</th>\n",
              "      <td>0.000000</td>\n",
              "    </tr>\n",
              "    <tr>\n",
              "      <th>2024-07-07</th>\n",
              "      <td>0.000000</td>\n",
              "    </tr>\n",
              "    <tr>\n",
              "      <th>2024-07-08</th>\n",
              "      <td>0.000000</td>\n",
              "    </tr>\n",
              "    <tr>\n",
              "      <th>2024-07-09</th>\n",
              "      <td>0.000000</td>\n",
              "    </tr>\n",
              "    <tr>\n",
              "      <th>2024-07-10</th>\n",
              "      <td>0.000000</td>\n",
              "    </tr>\n",
              "    <tr>\n",
              "      <th>...</th>\n",
              "      <th>...</th>\n",
              "      <th>...</th>\n",
              "      <td>...</td>\n",
              "    </tr>\n",
              "    <tr>\n",
              "      <th rowspan=\"5\" valign=\"top\">__total</th>\n",
              "      <th rowspan=\"5\" valign=\"top\">__total</th>\n",
              "      <th>2024-12-28</th>\n",
              "      <td>55.335283</td>\n",
              "    </tr>\n",
              "    <tr>\n",
              "      <th>2024-12-29</th>\n",
              "      <td>156.831394</td>\n",
              "    </tr>\n",
              "    <tr>\n",
              "      <th>2024-12-30</th>\n",
              "      <td>210.198180</td>\n",
              "    </tr>\n",
              "    <tr>\n",
              "      <th>2024-12-31</th>\n",
              "      <td>190.297510</td>\n",
              "    </tr>\n",
              "    <tr>\n",
              "      <th>2025-01-01</th>\n",
              "      <td>13.594787</td>\n",
              "    </tr>\n",
              "  </tbody>\n",
              "</table>\n",
              "<p>5580 rows × 1 columns</p>\n",
              "</div>"
            ],
            "text/plain": [
              "                                  sales\n",
              "group_id sku_id  date                  \n",
              "-1       20      2024-07-06    0.000000\n",
              "                 2024-07-07    0.000000\n",
              "                 2024-07-08    0.000000\n",
              "                 2024-07-09    0.000000\n",
              "                 2024-07-10    0.000000\n",
              "...                                 ...\n",
              "__total  __total 2024-12-28   55.335283\n",
              "                 2024-12-29  156.831394\n",
              "                 2024-12-30  210.198180\n",
              "                 2024-12-31  190.297510\n",
              "                 2025-01-01   13.594787\n",
              "\n",
              "[5580 rows x 1 columns]"
            ]
          },
          "execution_count": 10,
          "metadata": {},
          "output_type": "execute_result"
        }
      ],
      "source": [
        "from sktime.transformations.hierarchical.aggregate import Aggregator\n",
        "\n",
        "Aggregator().fit_transform(y_pred) - y_pred"
      ]
    },
    {
      "cell_type": "markdown",
      "metadata": {},
      "source": [
        "Existe uma diferença... ou seja, os valores não batem.\n",
        "Imagine o impacto de levar previsões incoerentes para a tomada de decisão em uma empresa?\n",
        "A raiz do problema é que temos mais modelos que graus de liberdade. Para ilustrar, suponha que temos 3 séries: $A$, $B$ e $C$, onde:\n",
        "\n",
        "$$\n",
        "C(t) = A(t) + B(t)\n",
        "$$\n",
        "\n",
        "Aqui, temos 3 séries, mas apenas 2 graus de liberdade, pois $C$ é completamente determinado por $A$ e $B$. Se fizermos previsões independentes para $A$, $B$ e $C$, não há garantia de que a relação acima será mantida nas previsões.\n",
        "\n",
        "## Reconciliação de previsões hierárquicas\n",
        "\n",
        "![](img/hierarchical_reconciled_vs_not.png)\n",
        "\n",
        "Existem diferentes métodos para reconciliar previsões em séries temporais hierárquicas. Não existe uma solução única, e o melhor método depende dos dados e do contexto.\n",
        "\n",
        "## Bottom-up\n",
        "\n",
        "A maneira mais simples de reconcialiar previsões hierárquicas é a abordagem **bottom-up**. Nessa abordagem, fazemos previsões apenas para as séries mais baixas na hierarquia (as séries filhas) e depois somamos essas previsões para obter as previsões das séries superiores (as séries pais).\n",
        "\n",
        "<img src=\"img/hierarchical_bottomup.png\" alt=\"Hierarchical Bottom-up\" width=\"450\">\n",
        "\n",
        "Lados positivos:\n",
        "\n",
        "* Simplicidade: fácil de entender e implementar.\n",
        "* Coerência garantida: a soma das previsões das séries filhas sempre será igual à previsão da série pai.\n",
        "* Sérias filhas podem capturar detalhes específicos que podem ser perdidos em níveis superiores.\n",
        "\n",
        "No entanto, essa abordagem também tem desvantagens: é sucetível ao ruído nas séries filhas, e se as séries filhas tiverem pouca informação, as previsões podem ser ruins. Por exemplo, muitos zeros nas séries de níveis baixos pode levar a previsões ruins a niveis agregados."
      ]
    },
    {
      "cell_type": "code",
      "execution_count": 11,
      "metadata": {},
      "outputs": [],
      "source": [
        "from sktime.transformations.hierarchical.reconcile import BottomUpReconciler\n",
        "\n",
        "bottom_up = BottomUpReconciler() * forecaster\n",
        "bottom_up.fit(y_train)\n",
        "\n",
        "y_pred_bottomup = bottom_up.predict(fh=fh)"
      ]
    },
    {
      "cell_type": "markdown",
      "metadata": {},
      "source": [
        "Agora vemos que as previsões são coerentes:"
      ]
    },
    {
      "cell_type": "code",
      "execution_count": 12,
      "metadata": {},
      "outputs": [
        {
          "data": {
            "text/html": [
              "<div>\n",
              "<style scoped>\n",
              "    .dataframe tbody tr th:only-of-type {\n",
              "        vertical-align: middle;\n",
              "    }\n",
              "\n",
              "    .dataframe tbody tr th {\n",
              "        vertical-align: top;\n",
              "    }\n",
              "\n",
              "    .dataframe thead th {\n",
              "        text-align: right;\n",
              "    }\n",
              "</style>\n",
              "<table border=\"1\" class=\"dataframe\">\n",
              "  <thead>\n",
              "    <tr style=\"text-align: right;\">\n",
              "      <th></th>\n",
              "      <th></th>\n",
              "      <th></th>\n",
              "      <th>sales</th>\n",
              "    </tr>\n",
              "    <tr>\n",
              "      <th>group_id</th>\n",
              "      <th>sku_id</th>\n",
              "      <th>date</th>\n",
              "      <th></th>\n",
              "    </tr>\n",
              "  </thead>\n",
              "  <tbody>\n",
              "    <tr>\n",
              "      <th rowspan=\"5\" valign=\"top\">-1</th>\n",
              "      <th rowspan=\"5\" valign=\"top\">20</th>\n",
              "      <th>2024-07-06</th>\n",
              "      <td>0.0</td>\n",
              "    </tr>\n",
              "    <tr>\n",
              "      <th>2024-07-07</th>\n",
              "      <td>0.0</td>\n",
              "    </tr>\n",
              "    <tr>\n",
              "      <th>2024-07-08</th>\n",
              "      <td>0.0</td>\n",
              "    </tr>\n",
              "    <tr>\n",
              "      <th>2024-07-09</th>\n",
              "      <td>0.0</td>\n",
              "    </tr>\n",
              "    <tr>\n",
              "      <th>2024-07-10</th>\n",
              "      <td>0.0</td>\n",
              "    </tr>\n",
              "    <tr>\n",
              "      <th>...</th>\n",
              "      <th>...</th>\n",
              "      <th>...</th>\n",
              "      <td>...</td>\n",
              "    </tr>\n",
              "    <tr>\n",
              "      <th rowspan=\"5\" valign=\"top\">__total</th>\n",
              "      <th rowspan=\"5\" valign=\"top\">__total</th>\n",
              "      <th>2024-12-28</th>\n",
              "      <td>0.0</td>\n",
              "    </tr>\n",
              "    <tr>\n",
              "      <th>2024-12-29</th>\n",
              "      <td>0.0</td>\n",
              "    </tr>\n",
              "    <tr>\n",
              "      <th>2024-12-30</th>\n",
              "      <td>0.0</td>\n",
              "    </tr>\n",
              "    <tr>\n",
              "      <th>2024-12-31</th>\n",
              "      <td>0.0</td>\n",
              "    </tr>\n",
              "    <tr>\n",
              "      <th>2025-01-01</th>\n",
              "      <td>0.0</td>\n",
              "    </tr>\n",
              "  </tbody>\n",
              "</table>\n",
              "<p>5580 rows × 1 columns</p>\n",
              "</div>"
            ],
            "text/plain": [
              "                             sales\n",
              "group_id sku_id  date             \n",
              "-1       20      2024-07-06    0.0\n",
              "                 2024-07-07    0.0\n",
              "                 2024-07-08    0.0\n",
              "                 2024-07-09    0.0\n",
              "                 2024-07-10    0.0\n",
              "...                            ...\n",
              "__total  __total 2024-12-28    0.0\n",
              "                 2024-12-29    0.0\n",
              "                 2024-12-30    0.0\n",
              "                 2024-12-31    0.0\n",
              "                 2025-01-01    0.0\n",
              "\n",
              "[5580 rows x 1 columns]"
            ]
          },
          "execution_count": 12,
          "metadata": {},
          "output_type": "execute_result"
        }
      ],
      "source": [
        "Aggregator().fit_transform(y_pred_bottomup) - y_pred_bottomup"
      ]
    },
    {
      "cell_type": "markdown",
      "metadata": {},
      "source": [
        "## Top-down (forecast proportions)\n",
        "\n",
        "Outra abordagem é a **top-down**. Nessa abordagem, fazemos previsões apenas para as séries superiores na hierarquia (as séries pais) e depois distribuímos essas previsões para as séries filhas com base em proporções previstas.\n",
        "\n",
        "Suponha que temos a seguinte hierarquia $C(t) = A(t) + B(t)$. Considere $\\hat{C}(t)$, $\\hat{A}(t)$ e $\\hat{B}(t)$ como as previsões para $C$, $A$ e $B$, respectivamente. Na abordagem top-down, faríamos o seguinte:\n",
        "\n",
        "1. Prever $\\hat{C}(t)$, $\\hat{A}(t)$ e $\\hat{B}(t)$ independentemente.\n",
        "2. Calcular as proporções previstas para os níveis mais baixos:\n",
        "$$\n",
        "p_A(t) = \\frac{\\hat{A}(t)}{\\hat{A}(t) + \\hat{B}(t)}\n",
        "$$\n",
        "\n",
        "$$\n",
        "p_B(t) = \\frac{\\hat{B}(t)}{\\hat{A}(t) + \\hat{B}(t)}\n",
        "$$\n",
        "\n",
        "3. Distribuir a previsão de $C$ para $A$ e $B$ usando essas proporções:\n",
        "$$\n",
        "\\tilde{A}(t) = p_A(t) \\cdot \\hat{C}(t)\n",
        "$$\n",
        "\n",
        "$$\n",
        "\\tilde{B}(t) = p_B(t) \\cdot \\hat{C}(t)\n",
        "$$\n",
        "\n",
        "Essa abordagem é capaz de usufruir da qualidade do forecast total, e ainda consegue distribuir para as séries filhas baseadas no histórico.\n",
        "\n",
        "<img src=\"img/hierarchical_td_fcst.png\" alt=\"Topdown Forecast\" width=\"900\">\n",
        "\n",
        "\n",
        "O que chamam de \"Proporções históricas\" é equivalente a esse método, mas com um modelo Naive para prever as proporções.\n",
        "\n",
        "Esse método pode ser bom quando o forecast total é de boa qualidade. No entanto,\n",
        "dependemos profundamente da qualidade do forecast total e das proporções."
      ]
    },
    {
      "cell_type": "code",
      "execution_count": 13,
      "metadata": {},
      "outputs": [],
      "source": [
        "from sktime.transformations.hierarchical.reconcile import TopdownReconciler\n",
        "\n",
        "top_down_fcst = TopdownReconciler() * forecaster\n",
        "top_down_fcst.fit(y_train)\n",
        "\n",
        "y_pred_topdown = top_down_fcst.predict(fh=fh)"
      ]
    },
    {
      "cell_type": "markdown",
      "metadata": {},
      "source": [
        "## Reconciliação ótima\n",
        "\n",
        "Existe uma abordagem mais sofisticada, com uma intuição geométrica interessante.\n",
        "A ideia é ajustar as previsões iniciais para que elas satisfaçam as restrições de soma da hierarquia. Por exemplo, para a hierarquia $C(t) = A(t) + B(t)$, queremos garantir que:\n",
        "\n",
        "$$\n",
        "\\hat{C}(t) = \\hat{A}(t) + \\hat{B}(t)\n",
        "$$\n",
        "\n",
        "Se consideramos nosso espaço 3D de observações $(\\hat{A}, \\hat{B}, \\hat{C})$, a \n",
        "condição acima é satisfeita para um plano 2D nesse universo.\n",
        "\n",
        "\n",
        "![](img/coherent_plane.png)\n",
        "\n",
        "\n",
        "Podemos então projetar nossas previsões iniciais nesse plano para obter previsões coerentes. Essa projeção pode ser feita de várias maneiras, levando a diferentes métodos de reconciliação ótima. Os métodos levam o nome \"OLS\" pois a projeção é feita minimizando o erro quadrático (Ordinary Least Squares).\n",
        "\n",
        "* **OLS** : projetar ortogonalmente todas as previsões base na espaço de reconciliação, tratando todas as séries igualmente.\n",
        "* **Weighted OLS**: projetar obliquamente, ou seja, considerando pesos diferentes para cada série, permitindo dar mais importância a certas séries na reconciliação. A projeção não faz mais uma perpendicular, mas sim uma oblíqua.\n",
        "* **Minimum trace (MinT)**: use a matriz de covariância do erro para encontrar as previsões reconciliadas ótimas. Chamado de \"ótimo\".\n",
        "\n",
        "\n",
        "Para a reconciliação ótima com OLS, podemos usar o `OptimalReconciler` do sktime:"
      ]
    },
    {
      "cell_type": "code",
      "execution_count": 14,
      "metadata": {},
      "outputs": [],
      "source": [
        "from sktime.transformations.hierarchical.reconcile import OptimalReconciler\n",
        "\n",
        "optimal = OptimalReconciler(\"ols\") * forecaster\n",
        "optimal.fit(y_train)\n",
        "y_pred_optimal = optimal.predict(fh=fh)"
      ]
    },
    {
      "cell_type": "code",
      "execution_count": 15,
      "metadata": {},
      "outputs": [
        {
          "data": {
            "image/png": "[encoded data removed]",
            "text/plain": [
              "<Figure size 1600x400 with 1 Axes>"
            ]
          },
          "metadata": {},
          "output_type": "display_data"
        }
      ],
      "source": [
        "# | code-fold: true\n",
        "from sktime.utils.plotting import plot_series\n",
        "import matplotlib.pyplot as plt\n",
        "import pandas as pd\n",
        "\n",
        "\n",
        "idx = y_train.index.droplevel(-1).unique()[10]\n",
        "\n",
        "plot_series(\n",
        "    y_train.loc[idx,],\n",
        "    y_test.loc[idx,],\n",
        "    y_pred.loc[idx,],\n",
        "    y_pred_optimal.loc[idx,],\n",
        "    labels=[\"Train\", \"Test\", \"Predicted (sem reconciliação)\", \"Predicted (ótimo)\"],\n",
        ")\n",
        "plt.xlim(pd.to_datetime(\"2024-05-01\"), None)\n",
        "plt.show()"
      ]
    },
    {
      "cell_type": "markdown",
      "metadata": {},
      "source": [
        "Para reconciliações ótimas (que usam a covariância do erro), podemos usar o `ReconcilerForecaster` do sktime, que internamente já faz o cálculo da covariância do erro:"
      ]
    },
    {
      "cell_type": "code",
      "execution_count": 16,
      "metadata": {},
      "outputs": [],
      "source": [
        "from sktime.forecasting.reconcile import ReconcilerForecaster\n",
        "\n",
        "\n",
        "mint_forecaster = ReconcilerForecaster(\n",
        "    forecaster=forecaster,\n",
        "    method=\"mint_shrink\")\n",
        "\n",
        "mint_forecaster.fit(y_train)\n",
        "y_pred_mint = mint_forecaster.predict(fh=fh)"
      ]
    },
    {
      "cell_type": "markdown",
      "metadata": {},
      "source": [
        "## Comparando resultados"
      ]
    },
    {
      "cell_type": "code",
      "execution_count": 17,
      "metadata": {},
      "outputs": [
        {
          "data": {
            "text/html": [
              "<div>\n",
              "<style scoped>\n",
              "    .dataframe tbody tr th:only-of-type {\n",
              "        vertical-align: middle;\n",
              "    }\n",
              "\n",
              "    .dataframe tbody tr th {\n",
              "        vertical-align: top;\n",
              "    }\n",
              "\n",
              "    .dataframe thead th {\n",
              "        text-align: right;\n",
              "    }\n",
              "</style>\n",
              "<table border=\"1\" class=\"dataframe\">\n",
              "  <thead>\n",
              "    <tr style=\"text-align: right;\">\n",
              "      <th></th>\n",
              "      <th>Baseline</th>\n",
              "      <th>BottomUpReconciler</th>\n",
              "      <th>TopDownReconciler</th>\n",
              "      <th>OptimalReconciler (ols)</th>\n",
              "      <th>Mint Reconciler</th>\n",
              "    </tr>\n",
              "  </thead>\n",
              "  <tbody>\n",
              "    <tr>\n",
              "      <th>Mean Absolute Squared Error</th>\n",
              "      <td>40.179149</td>\n",
              "      <td>26.079303</td>\n",
              "      <td>90.661393</td>\n",
              "      <td>59.86903</td>\n",
              "      <td>22.794349</td>\n",
              "    </tr>\n",
              "  </tbody>\n",
              "</table>\n",
              "</div>"
            ],
            "text/plain": [
              "                              Baseline  BottomUpReconciler  TopDownReconciler  \\\n",
              "Mean Absolute Squared Error  40.179149           26.079303          90.661393   \n",
              "\n",
              "                             OptimalReconciler (ols)  Mint Reconciler  \n",
              "Mean Absolute Squared Error                 59.86903        22.794349  "
            ]
          },
          "execution_count": 17,
          "metadata": {},
          "output_type": "execute_result"
        }
      ],
      "source": [
        "from sktime.performance_metrics.forecasting import MeanSquaredScaledError\n",
        "\n",
        "metric = MeanSquaredScaledError(multilevel=\"uniform_average_time\")\n",
        "\n",
        "pd.DataFrame(\n",
        "    {\n",
        "        \"Baseline\": metric(y_test, y_pred, y_train=y_train),\n",
        "        \"BottomUpReconciler\": metric(y_test, y_pred_bottomup, y_train=y_train),\n",
        "        \"TopDownReconciler\": metric(y_test, y_pred_topdown, y_train=y_train),\n",
        "        \"OptimalReconciler (ols)\": metric(y_test, y_pred_optimal, y_train=y_train),\n",
        "        \"Mint Reconciler\": metric(y_test, y_pred_mint, y_train=y_train),\n",
        "    },\n",
        "    index=[\"Mean Absolute Squared Error\"],\n",
        ")"
      ]
    }
  ],
  "metadata": {
    "kernelspec": {
      "display_name": "tsbook-py3.11",
      "language": "python",
      "name": "python3"
    },
    "language_info": {
      "codemirror_mode": {
        "name": "ipython",
        "version": 3
      },
      "file_extension": ".py",
      "mimetype": "text/x-python",
      "name": "python",
      "nbconvert_exporter": "python",
      "pygments_lexer": "ipython3",
      "version": "3.11.11"
    }
  },
  "nbformat": 4,
  "nbformat_minor": 4
}
