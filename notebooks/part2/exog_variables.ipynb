{
  "cells": [
    {
      "cell_type": "markdown",
      "metadata": {},
      "source": [
        "# Variáveis Exógenas\n",
        "\n",
        "Como séries temporais possuem uma ordem temporal, a sua própria história tem poder preditivo muito forte. No entanto, em alguns casos, apenas a história não é suficiente para fazer previsões precisas.\n",
        "\n",
        "Por exemplo, em vendas de varejo, fatores como promoções, feriados e eventos sazonais podem impactar significativamente as vendas.\n",
        "\n",
        "Agora, vamos ver como usar variáveis exógenas em modelos de séries temporais com sktime, as famosas \"features\".\n",
        "\n",
        "A interface é sempre a mesma, vamos ver que a diferença é o uso do parâmetro `X` nos métodos `fit` e `predict`.\n",
        "\n",
        "Usaremos os mesmos dados de varejo sintético dos exemplos anteriores. Agora, teremos também `X_train` e `X_test`, que são as variáveis exógenas.\n"
      ]
    },
    {
      "cell_type": "code",
      "metadata": {},
      "source": [
        "from tsbook.datasets.retail import SyntheticRetail\n",
        "from sktime.utils.plotting import plot_series\n",
        "from sktime.forecasting.naive import NaiveForecaster\n",
        "\n",
        "dataset = SyntheticRetail(\"univariate\", macro_trend=True)\n",
        "y_train, X_train, y_test, X_test = dataset.load(\n",
        "    \"y_train\", \"X_train\", \"y_test\", \"X_test\"\n",
        ")\n",
        "\n",
        "X_train.head()"
      ],
      "execution_count": null,
      "outputs": []
    },
    {
      "cell_type": "code",
      "metadata": {},
      "source": [
        "import matplotlib.pyplot as plt\n",
        "\n",
        "X_train.plot.line()"
      ],
      "execution_count": null,
      "outputs": []
    },
    {
      "cell_type": "code",
      "metadata": {},
      "source": [
        "fig, ax = plt.subplots( figsize=(10, 6))\n",
        "\n",
        "y_train.plot(ax=ax, label=\"y\")\n",
        "X_train[\"macro_trend\"].plot(ax=ax.twinx(), label=\"macro_trend\")\n"
      ],
      "execution_count": null,
      "outputs": []
    },
    {
      "cell_type": "markdown",
      "metadata": {},
      "source": [
        "Nem todos modelos suportam variáveis exógenas. Para ver uma lista de possibilidades, podemos usar a função `all_estimators` do sktime."
      ]
    },
    {
      "cell_type": "code",
      "metadata": {},
      "source": [
        "from sktime.registry import all_estimators\n",
        "\n",
        "all_estimators(\n",
        "    \"forecaster\", filter_tags={\"capability:exogenous\": True}, as_dataframe=True\n",
        ")"
      ],
      "execution_count": null,
      "outputs": []
    },
    {
      "cell_type": "markdown",
      "metadata": {},
      "source": [
        "## Tipos de Variáveis Exógenas\n",
        "\n",
        "Antes de prosseguirmos, vamos separar as variáveis exógenas em dois tipos:\n",
        "\n",
        "* **Variáveis exógenas com valores futuros conhecidos**: São variáveis cujos valores futuros já são conhecidos no momento da previsão. Variáveis indicadoras (dummies) para feriados ou eventos especiais, bem como recursos de sazonalidade, são exemplos comuns desse tipo de variável.\n",
        "\n",
        "* **Variáveis exógenas com valores futuros desconhecidos**: São variáveis cujos valores futuros não são conhecidos para o horizonte de previsão. Por exemplo, se quisermos incluir indicadores econômicos que ainda não foram divulgados, devemos tratá-los como variáveis exógenas de valor futuro desconhecido.\n",
        "  \n",
        "Nesse último cenário, para realizar a previsão, existem três opções:\n",
        "\t1.\tPrever os valores futuros das variáveis exógenas usando um modelo separado (ou o mesmo modelo, se ele permitir) e usar essas previsões como entrada para o modelo principal de previsão.\n",
        "\t2.\tUsar um valor de preenchimento (por exemplo, o último valor conhecido) para as variáveis exógenas de valor futuro desconhecido durante a previsão.\n",
        "\t3.\tUsar valores defasados (lags) das variáveis exógenas como características (features), o que pode ser útil se o modelo conseguir aprender com os valores passados dessas variáveis.\n",
        "\n",
        "## Usando variáveis exógenas com sktime\n",
        "\n",
        "Vamos usar `AutoREG` como modelo base para nosso exemplo de vairáveis exógenas. Primeiramente, vamos supor que conhecemos a variável `macro_trend` no futuro"
      ]
    },
    {
      "cell_type": "code",
      "metadata": {},
      "source": [
        "from sktime.forecasting.auto_reg import AutoREG\n",
        "\n",
        "model = AutoREG(lags=30)\n",
        "model.fit(y_train, X=X_train)\n",
        "y_pred = model.predict(fh=y_test.index, X=X_test)"
      ],
      "execution_count": null,
      "outputs": []
    },
    {
      "cell_type": "code",
      "metadata": {},
      "source": [
        "plot_series(y_train, y_test, y_pred, labels=[\"Treino\", \"Teste\", \"Previsão com Exógenas\"])"
      ],
      "execution_count": null,
      "outputs": []
    },
    {
      "cell_type": "markdown",
      "metadata": {},
      "source": [
        "Fácil, no caso que conhecemos a variável exógena no futuro, basta passar `X` em `fit` e `predict`.\n",
        "\n",
        "Antes de avançar, é importante revisar que os transformadores com `fit` e `transform` também podem ser aplicados a variávei exógenas! Inclusive, podemos fazer pipelines compostos de várias etapas de preprocessamento de exógenas. Isso será importante para os próximos exemplos.\n",
        "\n",
        "## Variável observada, mas desconhecida no futuro\n",
        "\n",
        "Vamos eliminar a variável `macro_trend` do conjunto de teste, para simular o cenário onde não conhecemos o valor futuro dessa variável."
      ]
    },
    {
      "cell_type": "code",
      "metadata": {},
      "source": [
        "import numpy as np\n",
        "\n",
        "X_test_missing = X_test.copy()\n",
        "X_test_missing[\"macro_trend\"] = np.nan"
      ],
      "execution_count": null,
      "outputs": []
    },
    {
      "cell_type": "markdown",
      "metadata": {},
      "source": [
        "### Solução 1: Prever a variável exógena\n",
        "\n",
        "Agora, vamos supor que não sabemos o valor futuro de `macro_trend`. Nesse caso, podemos criar um modelo separado para prever `macro_trend` e usar essa previsão como entrada para o modelo principal.\n",
        "\n",
        "Sktime possui uma funcionalidade pronta para isso: um forecaster chamado `ForecastX`. Ele é composto de dois modelos, um para a variável exógena, e outro para o alvo principal.\n",
        "\n",
        "Aqui, o forecaster necessita que o horizonte de previsão (`fh`) seja passado já na etapa de `fit`."
      ]
    },
    {
      "cell_type": "code",
      "metadata": {},
      "source": [
        "from sktime.forecasting.compose import ForecastX\n",
        "\n",
        "model = ForecastX(\n",
        "    forecaster_y=AutoREG(lags=30),\n",
        "    forecaster_X=AutoREG(lags=30),\n",
        ")\n",
        "\n",
        "fh = [i for i in range(1, len(y_test) + 1)]\n",
        "model.fit(y_train, X=X_train, fh=fh)\n",
        "\n",
        "y_pred_case1 = model.predict(X=X_test_missing)"
      ],
      "execution_count": null,
      "outputs": []
    },
    {
      "cell_type": "code",
      "metadata": {},
      "source": [
        "plot_series(y_train, y_test, y_pred_case1, labels=[\"Treino\", \"Teste\", \"Previsão com Exógenas Previstas\"])"
      ],
      "execution_count": null,
      "outputs": []
    },
    {
      "cell_type": "markdown",
      "metadata": {},
      "source": [
        "### Solução 2: Usar valor de preenchimento (imputação)\n",
        "\n",
        "Para essa solução, vamos usar transformadores para preencher os valores faltantes na variável exógena. Aqui, usaremos o `Imputer` do sktime, que suporta variáveis exógenas."
      ]
    },
    {
      "cell_type": "code",
      "metadata": {},
      "source": [
        "from sktime.transformations.series.impute import Imputer\n",
        "imputer = Imputer(method=\"mean\")\n",
        "imputer.fit(X_train)\n",
        "\n",
        "# Agora imputamos\n",
        "X_test_imputed = imputer.transform(X_test_missing)\n",
        "X_test_imputed.tail()"
      ],
      "execution_count": null,
      "outputs": []
    },
    {
      "cell_type": "markdown",
      "metadata": {},
      "source": [
        "Para usar preprocessamento de exógenas + forecasting, podemos usar a composição `ForecastingPipeline`."
      ]
    },
    {
      "cell_type": "code",
      "metadata": {},
      "source": [
        "from sktime.forecasting.compose import ForecastingPipeline\n",
        "from sktime.transformations.series.difference import Differencer\n",
        "\n",
        "\n",
        "model = ForecastingPipeline(\n",
        "    steps=[(\"imputer\", Imputer(method=\"mean\")), (\"forecaster\", AutoREG(lags=30))]\n",
        ")\n",
        "model.fit(y_train, X=X_train)"
      ],
      "execution_count": null,
      "outputs": []
    },
    {
      "cell_type": "code",
      "metadata": {},
      "source": [
        "y_pred_case2 = model.predict(fh=y_test.index, X=X_test_missing)\n",
        "plot_series(y_train, y_test, y_pred_case2, labels=[\"Treino\", \"Teste\", \"Previsão com Exógenas Imputadas\"])"
      ],
      "execution_count": null,
      "outputs": []
    },
    {
      "cell_type": "markdown",
      "metadata": {},
      "source": [
        "Nossa previsão não ficou boa. Claro! A variável exógena possui uma tendência - que naturalmente faz com que a imputação do ultimo valor ou a média não funcione bem. A solução ótima varia de caso para caso.\n",
        "\n",
        "\n",
        "::: {.callout-tip}\n",
        "\n",
        "**Dica**: Podemos também usar o operador `**` como atalho para criar pipelines de variáveis exógenas.\n",
        "\n",
        "```python\n",
        "model = Imputer(method=\"mean\") ** AutoREG(lags=30)\n",
        "````\n",
        "\n",
        "Note a diferença do que aprendemos para criar pipelines com transformações na variável target, que usam `*` como operador. Claramente, podemos fazer composições mais complexas, como:\n",
        "\n",
        "```python\n",
        "model = Imputer(method=\"mean\") ** (Differencer() * AutoREG())\n",
        "```\n",
        "\n",
        ":::\n",
        "\n",
        "### Solução 3: Usar valores defasados (lags) da variável exógena\n",
        "\n",
        "Outra opção é criar versões defasadas das variáveis exógenas e usá-las como features.\n",
        "\n",
        "Para isso, podemos usar o transformador Lag do sktime.\n",
        "Ao utilizar defasagens (lags), surgem dois desafios principais:\n",
        "\t1.\tO aparecimento de valores NaN, que muitos modelos de previsão não conseguem tratar.\n",
        "\t2.\tO número de variáveis exógenas pode aumentar significativamente, o que pode levar a overfitting ou, no caso do nosso conjunto de dados, a um número de features maior que o número de amostras — o que pode gerar erros no processo de ajuste (fitting).\n",
        "\n",
        "Para lidar com isso, no exemplo abaixo utilizamos um TransformerPipeline que realiza as seguintes etapas:\n",
        "\t•\tSeleção de variáveis: executa uma seleção das variáveis exógenas, mantendo apenas as mais relevantes.\n",
        "\t•\tDefasagem: aplica o transformador Lag para criar versões defasadas das variáveis exógenas.\n",
        "\t•\tImputação: usa o transformador Imputer para preencher os valores NaN criados pelo processo de defasagem. Neste caso, é usado o método backfill (preenchimento a partir de valores posteriores)."
      ]
    },
    {
      "cell_type": "code",
      "metadata": {},
      "source": [
        "from sktime.transformations.compose import TransformerPipeline\n",
        "from sktime.transformations.series.feature_selection import FeatureSelection\n",
        "from sktime.transformations.series.impute import Imputer\n",
        "from sktime.transformations.series.lag import Lag\n",
        "from sktime.transformations.series.subset import IndexSubset\n",
        "\n",
        "\n",
        "transformer_pipeline = TransformerPipeline(\n",
        "    steps=[\n",
        "        (\"lag\", Lag(lags=list(range(1, 180 + 1)))),  # Cria lags 3 e 4\n",
        "        (\"subset\", IndexSubset()),  # Seleciona apenas macro_trend\n",
        "        (\"impute\", Imputer(method=\"backfill\", value=0)),  # Imputa valores NaN\n",
        "        (\"feature_selection\", FeatureSelection()),  # Seleciona features\n",
        "    ]\n",
        ")"
      ],
      "execution_count": null,
      "outputs": []
    },
    {
      "cell_type": "code",
      "metadata": {},
      "source": [
        "transformer_pipeline.fit(X=X_train, y=y_train)\n",
        "X_test_transformed = transformer_pipeline.transform(X=X_test_missing)\n",
        "\n",
        "X_test_transformed.head()"
      ],
      "execution_count": null,
      "outputs": []
    },
    {
      "cell_type": "code",
      "metadata": {},
      "source": [
        "model = ForecastingPipeline(\n",
        "    steps=[\n",
        "        (\"preprocessing\", transformer_pipeline),\n",
        "        (\"forecaster\", AutoREG(lags=30)),\n",
        "    ]\n",
        ").fit(X=X_train, y=y_train)\n",
        "\n",
        "\n",
        "model"
      ],
      "execution_count": null,
      "outputs": []
    },
    {
      "cell_type": "code",
      "metadata": {},
      "source": [
        "y_pred_case3 = model.predict(fh=y_test.index, X=X_test_missing)\n",
        "plot_series(y_train, y_test, y_pred_case3, labels=[\"Treino\", \"Teste\", \"Previsão com Exógenas Lag\"])"
      ],
      "execution_count": null,
      "outputs": []
    }
  ],
  "metadata": {
    "kernelspec": {
      "name": "python3",
      "language": "python",
      "display_name": "Python 3 (ipykernel)",
      "path": "/Users/felipeangelim/Workspace/python_brasil_2025/.venv/share/jupyter/kernels/python3"
    }
  },
  "nbformat": 4,
  "nbformat_minor": 4
}