{
  "cells": [
    {
      "cell_type": "markdown",
      "metadata": {},
      "source": [
        "# Métricas e cross-validation\n",
        "\n",
        "Até então, vimos como criar modelos de séries temporais e avaliamos qualitativamente seu desempenho, em apenas uma simples divisão treino-teste. Agora, vamos explorar como avaliar modelos de séries temporais de forma mais robusta, utilizando métricas específicas e técnicas de validação cruzada adaptadas para dados temporais.\n",
        "\n",
        "\n",
        "\n",
        "## Métricas\n",
        "\n",
        "Primeiro vamos baixar os dados e criar um modelo simples.\n"
      ]
    },
    {
      "cell_type": "code",
      "execution_count": 1,
      "metadata": {},
      "outputs": [],
      "source": [
        "import matplotlib.pyplot as plt\n",
        "from tsbook.datasets.retail import SyntheticRetail\n",
        "from sktime.utils.plotting import plot_series\n",
        "from sktime.forecasting.naive import NaiveForecaster\n",
        "\n",
        "dataset = SyntheticRetail(\"univariate\")\n",
        "y_train, y_test = dataset.load(\"y_train\", \"y_test\")\n",
        "\n",
        "# Predict\n",
        "model = NaiveForecaster(strategy=\"last\")\n",
        "model.fit(y_train)\n",
        "y_pred = model.predict(fh=y_test.index)"
      ]
    },
    {
      "cell_type": "markdown",
      "metadata": {},
      "source": [
        "Para avaliar o desempenho de modelos de séries temporais, existem diversas métricas que podem ser utilizadas. \n",
        "\n",
        "Duas métricas básicas são:\n",
        "\n",
        "* **Mean Absolute Error (MAE)**: Média dos erros absolutos entre as previsões e os valores reais.\n",
        "$$\n",
        "MAE = \\frac{1}{h} \\sum_{t=T+1}^{T+h} |y_t - \\hat{y}_t|\n",
        "$$"
      ]
    },
    {
      "cell_type": "code",
      "execution_count": 2,
      "metadata": {},
      "outputs": [
        {
          "data": {
            "text/plain": [
              "np.float64(615.0555555555555)"
            ]
          },
          "execution_count": 2,
          "metadata": {},
          "output_type": "execute_result"
        }
      ],
      "source": [
        "from sktime.performance_metrics.forecasting import MeanAbsoluteError\n",
        "\n",
        "metric = MeanAbsoluteError()\n",
        "metric(y_true=y_test, y_pred=y_pred)"
      ]
    },
    {
      "cell_type": "markdown",
      "metadata": {},
      "source": [
        "* **Mean Squared Error (MSE)**: Média dos erros quadráticos entre as previsões e os valores reais.\n",
        "\n",
        "$$\n",
        "MSE = \\frac{1}{h} \\sum_{t=T+1}^{T+h} (y_t - \\hat{y}_t)^2\n",
        "$$"
      ]
    },
    {
      "cell_type": "code",
      "execution_count": 3,
      "metadata": {},
      "outputs": [
        {
          "data": {
            "text/plain": [
              "np.float64(633773.8777777777)"
            ]
          },
          "execution_count": 3,
          "metadata": {},
          "output_type": "execute_result"
        }
      ],
      "source": [
        "from sktime.performance_metrics.forecasting import MeanSquaredError\n",
        "\n",
        "metric = MeanSquaredError()\n",
        "metric(y_true=y_test, y_pred=y_pred)"
      ]
    },
    {
      "cell_type": "markdown",
      "metadata": {},
      "source": [
        "No entanto, essas métricas não levam em consideração a escala dos dados, o que pode ser um problema ao comparar desempenho entre diferentes séries temporais, e também na comunicação dos resultados para stakeholders.\n",
        "\n",
        "Em muitos meios, é comum usar métricas que eliminam o fator escala, como:\n",
        "\n",
        "* **Mean Absolute Percentage Error (MAPE)**: Média dos erros percentuais absolutos entre as previsões e os valores reais.\n",
        "\n",
        "$$\n",
        "MAPE = \\frac{1}{h} \\sum_{t=T+1}^{T+h} \\left| \\frac{y_t - \\hat{y}_t}{y_t} \\right|\n",
        "$$\n"
      ]
    },
    {
      "cell_type": "code",
      "execution_count": 4,
      "metadata": {},
      "outputs": [
        {
          "data": {
            "text/plain": [
              "np.float64(0.21292470853237802)"
            ]
          },
          "execution_count": 4,
          "metadata": {},
          "output_type": "execute_result"
        }
      ],
      "source": [
        "from sktime.performance_metrics.forecasting import MeanAbsolutePercentageError\n",
        "\n",
        "metric = MeanAbsolutePercentageError()\n",
        "metric(y_true=y_test, y_pred=y_pred)"
      ]
    },
    {
      "cell_type": "markdown",
      "metadata": {},
      "source": [
        "* **Symmetric Mean Absolute Percentage Error (sMAPE)**: Média dos erros percentuais absolutos simétricos entre as previsões e os valores reais."
      ]
    },
    {
      "cell_type": "code",
      "execution_count": 5,
      "metadata": {},
      "outputs": [
        {
          "data": {
            "text/plain": [
              "np.float64(0.22359840490570626)"
            ]
          },
          "execution_count": 5,
          "metadata": {},
          "output_type": "execute_result"
        }
      ],
      "source": [
        "metric = MeanAbsolutePercentageError(symmetric=True)\n",
        "metric(y_true=y_test, y_pred=y_pred)"
      ]
    },
    {
      "cell_type": "markdown",
      "metadata": {},
      "source": [
        "$$\n",
        "sMAPE = \\frac{1}{h} \\sum_{t=T+1}^{T+h} \\frac{|y_t - \\hat{y}_t|}{(|y_t| + |\\hat{y}_t|)/2}\n",
        "$$\n",
        "\n",
        "Essas métricas, no entanto, apresentam seus próprios problemas. Note que os valores\n",
        "podem ser exageradamente alto quando o denominador é próximo de zero. Ou seja, o MAPE e sMAPE podem ser problemáticos quando a série temporal contém valores próximos de zero.\n",
        "\n",
        "Outro tema é que essas métricas não consideram a dificuldade da série. Por exemplo, 5% de erro pode ser muito em uma série, e pouco em outra. Para isso, foram propostas métricas \"escalas\":\n",
        "\n",
        "* **Mean Absolute Scaled Error (MASE)**: dividimos o erro absoluto pelo erro absoluto médio de um naive nos dados de treino. Se:\n",
        "\n",
        "$$\n",
        "e_{naive} = \\frac{1}{T-1} \\sum_{t=2}^{T} |y_t - y_{t-1}|\n",
        "$$\n",
        "\n",
        "são os erros nos dados de treino, então:\n",
        "\n",
        "$$\n",
        "MASE = \\frac{1}{h} \\sum_{t=T+1}^{T+h} \\frac{|y_t - \\hat{y}_t|}{e_{naive}}\n",
        "$$\n"
      ]
    },
    {
      "cell_type": "code",
      "execution_count": 6,
      "metadata": {},
      "outputs": [
        {
          "data": {
            "text/plain": [
              "np.float64(10.127736897882464)"
            ]
          },
          "execution_count": 6,
          "metadata": {},
          "output_type": "execute_result"
        }
      ],
      "source": [
        "from sktime.performance_metrics.forecasting import MeanAbsoluteScaledError\n",
        "\n",
        "metric = MeanAbsoluteScaledError()\n",
        "metric(y_true=y_test, y_pred=y_pred, y_train=y_train)"
      ]
    },
    {
      "cell_type": "markdown",
      "metadata": {},
      "source": [
        "* **Mean Squared Scaled Error (MSSE)**: dividimos o erro quadrático pelo quadrado de $e_{naive}$.\n",
        "\n",
        "$$\n",
        "MSSE = \\frac{1}{h} \\sum_{t=T+1}^{T+h} \\frac{(y_t - \\hat{y}_t)^2}{e_{naive}^2}\n",
        "$$"
      ]
    },
    {
      "cell_type": "code",
      "execution_count": 7,
      "metadata": {},
      "outputs": [
        {
          "data": {
            "text/plain": [
              "np.float64(57.09087480132447)"
            ]
          },
          "execution_count": 7,
          "metadata": {},
          "output_type": "execute_result"
        }
      ],
      "source": [
        "from sktime.performance_metrics.forecasting import MeanSquaredScaledError\n",
        "\n",
        "metric = MeanSquaredScaledError()\n",
        "metric(y_true=y_test, y_pred=y_pred, y_train=y_train)"
      ]
    },
    {
      "cell_type": "markdown",
      "metadata": {},
      "source": [
        "## Cross-validation para séries temporais\n",
        "\n",
        "Em um cross-validation, nossa intenção é estimar corretamente o erro de generalização do modelo, ou seja, o erro que o modelo terá em dados futuros.\n",
        "\n",
        "$$\n",
        "\\mathbb{E}[L(Y, \\hat{Y})]\n",
        "$$\n",
        "\n",
        "Onde a média é sobre a distribuição que mais representa o que será visto em produção.\n",
        "\n",
        "Tipicamente, fazemos back-testing com dois tipos de janelas:\n",
        "\n",
        "* **Sliding window**: a janela de treino tem tamanho fixo, e \"desliza\" ao longo do tempo. A cada passo, o modelo é re-treinado com os dados mais recentes.\n"
      ]
    },
    {
      "cell_type": "code",
      "execution_count": 8,
      "metadata": {},
      "outputs": [
        {
          "data": {
            "image/png": "[encoded data removed]",
            "text/plain": [
              "<Figure size 1600x480 with 1 Axes>"
            ]
          },
          "metadata": {},
          "output_type": "display_data"
        }
      ],
      "source": [
        "from sktime.utils.plotting import plot_windows\n",
        "\n",
        "from sktime.split import SlidingWindowSplitter\n",
        "\n",
        "sliding_window_cv = SlidingWindowSplitter(\n",
        "    window_length=365 * 3, step_length=100, fh=list(range(1, 90 + 1))\n",
        ")\n",
        "plot_windows(cv=sliding_window_cv, y=y_train)\n",
        "plt.show()"
      ]
    },
    {
      "cell_type": "markdown",
      "metadata": {},
      "source": [
        "* **Expanding window**: a janela de treino começa com um tamanho mínimo, e vai aumentando ao longo do tempo, incluindo todos os dados anteriores. A cada passo, o modelo é re-treinado com todos os dados disponíveis até aquele ponto.\n"
      ]
    },
    {
      "cell_type": "code",
      "execution_count": 9,
      "metadata": {},
      "outputs": [
        {
          "data": {
            "image/png": "[encoded data removed]",
            "text/plain": [
              "<Figure size 1600x480 with 1 Axes>"
            ]
          },
          "metadata": {},
          "output_type": "display_data"
        }
      ],
      "source": [
        "from sktime.split import ExpandingWindowSplitter\n",
        "\n",
        "\n",
        "\n",
        "expanding_window_cv = ExpandingWindowSplitter(\n",
        "    initial_window=365 * 3, step_length=100, fh=list(range(1, 90 + 1))\n",
        ")\n",
        "plot_windows(cv=expanding_window_cv, y=y_train)\n",
        "plt.show()"
      ]
    },
    {
      "cell_type": "markdown",
      "metadata": {},
      "source": [
        "::: .{callout-tip}\n",
        "\n",
        "Qual escolher? Bom, escolha o que mais representa o que você espera ver em produção.\n",
        "\n",
        ":::\n",
        "\n",
        "\n",
        "## Executando o cross-validation\n",
        "\n",
        "Para executar cross-validation, usamos a função `evaluate`, que recebe o modelo, o esquema de cross-validation, os dados, e a métrica a ser usada."
      ]
    },
    {
      "cell_type": "code",
      "execution_count": 10,
      "metadata": {},
      "outputs": [
        {
          "data": {
            "text/html": [
              "<div>\n",
              "<style scoped>\n",
              "    .dataframe tbody tr th:only-of-type {\n",
              "        vertical-align: middle;\n",
              "    }\n",
              "\n",
              "    .dataframe tbody tr th {\n",
              "        vertical-align: top;\n",
              "    }\n",
              "\n",
              "    .dataframe thead th {\n",
              "        text-align: right;\n",
              "    }\n",
              "</style>\n",
              "<table border=\"1\" class=\"dataframe\">\n",
              "  <thead>\n",
              "    <tr style=\"text-align: right;\">\n",
              "      <th></th>\n",
              "      <th>test_MeanAbsoluteScaledError</th>\n",
              "      <th>fit_time</th>\n",
              "      <th>pred_time</th>\n",
              "      <th>len_train_window</th>\n",
              "      <th>cutoff</th>\n",
              "      <th>y_train</th>\n",
              "      <th>y_test</th>\n",
              "      <th>y_pred</th>\n",
              "    </tr>\n",
              "  </thead>\n",
              "  <tbody>\n",
              "    <tr>\n",
              "      <th>0</th>\n",
              "      <td>12.839683</td>\n",
              "      <td>0.002775</td>\n",
              "      <td>0.007933</td>\n",
              "      <td>1095</td>\n",
              "      <td>2022-12-30</td>\n",
              "      <td>sales\n",
              "date             \n",
              "2020-01-01...</td>\n",
              "      <td>sales\n",
              "date             \n",
              "2022-12-31...</td>\n",
              "      <td>sales\n",
              "2022-12-31  458.0\n",
              "2023-01-01...</td>\n",
              "    </tr>\n",
              "    <tr>\n",
              "      <th>1</th>\n",
              "      <td>3.813045</td>\n",
              "      <td>0.002680</td>\n",
              "      <td>0.006148</td>\n",
              "      <td>1195</td>\n",
              "      <td>2023-04-09</td>\n",
              "      <td>sales\n",
              "date             \n",
              "2020-01-01...</td>\n",
              "      <td>sales\n",
              "date             \n",
              "2023-04-10...</td>\n",
              "      <td>sales\n",
              "2023-04-10  866.0\n",
              "2023-04-11...</td>\n",
              "    </tr>\n",
              "    <tr>\n",
              "      <th>2</th>\n",
              "      <td>8.068216</td>\n",
              "      <td>0.002591</td>\n",
              "      <td>0.006612</td>\n",
              "      <td>1295</td>\n",
              "      <td>2023-07-18</td>\n",
              "      <td>sales\n",
              "date             \n",
              "2020-01-01...</td>\n",
              "      <td>sales\n",
              "date             \n",
              "2023-07-19...</td>\n",
              "      <td>sales\n",
              "2023-07-19  748.0\n",
              "2023-07-20...</td>\n",
              "    </tr>\n",
              "    <tr>\n",
              "      <th>3</th>\n",
              "      <td>7.854970</td>\n",
              "      <td>0.002779</td>\n",
              "      <td>0.005778</td>\n",
              "      <td>1395</td>\n",
              "      <td>2023-10-26</td>\n",
              "      <td>sales\n",
              "date             \n",
              "2020-01-01...</td>\n",
              "      <td>sales\n",
              "date             \n",
              "2023-10-27...</td>\n",
              "      <td>sales\n",
              "2023-10-27  1229.0\n",
              "2023-10-...</td>\n",
              "    </tr>\n",
              "    <tr>\n",
              "      <th>4</th>\n",
              "      <td>5.955709</td>\n",
              "      <td>0.002442</td>\n",
              "      <td>0.005910</td>\n",
              "      <td>1495</td>\n",
              "      <td>2024-02-03</td>\n",
              "      <td>sales\n",
              "date             \n",
              "2020-01-01...</td>\n",
              "      <td>sales\n",
              "date             \n",
              "2024-02-04...</td>\n",
              "      <td>sales\n",
              "2024-02-04  1916.0\n",
              "2024-02-...</td>\n",
              "    </tr>\n",
              "  </tbody>\n",
              "</table>\n",
              "</div>"
            ],
            "text/plain": [
              "   test_MeanAbsoluteScaledError  fit_time  pred_time  len_train_window  \\\n",
              "0                     12.839683  0.002775   0.007933              1095   \n",
              "1                      3.813045  0.002680   0.006148              1195   \n",
              "2                      8.068216  0.002591   0.006612              1295   \n",
              "3                      7.854970  0.002779   0.005778              1395   \n",
              "4                      5.955709  0.002442   0.005910              1495   \n",
              "\n",
              "       cutoff                                            y_train  \\\n",
              "0  2022-12-30              sales\n",
              "date             \n",
              "2020-01-01...   \n",
              "1  2023-04-09              sales\n",
              "date             \n",
              "2020-01-01...   \n",
              "2  2023-07-18              sales\n",
              "date             \n",
              "2020-01-01...   \n",
              "3  2023-10-26              sales\n",
              "date             \n",
              "2020-01-01...   \n",
              "4  2024-02-03              sales\n",
              "date             \n",
              "2020-01-01...   \n",
              "\n",
              "                                              y_test  \\\n",
              "0              sales\n",
              "date             \n",
              "2022-12-31...   \n",
              "1              sales\n",
              "date             \n",
              "2023-04-10...   \n",
              "2              sales\n",
              "date             \n",
              "2023-07-19...   \n",
              "3              sales\n",
              "date             \n",
              "2023-10-27...   \n",
              "4              sales\n",
              "date             \n",
              "2024-02-04...   \n",
              "\n",
              "                                              y_pred  \n",
              "0              sales\n",
              "2022-12-31  458.0\n",
              "2023-01-01...  \n",
              "1              sales\n",
              "2023-04-10  866.0\n",
              "2023-04-11...  \n",
              "2              sales\n",
              "2023-07-19  748.0\n",
              "2023-07-20...  \n",
              "3               sales\n",
              "2023-10-27  1229.0\n",
              "2023-10-...  \n",
              "4               sales\n",
              "2024-02-04  1916.0\n",
              "2024-02-...  "
            ]
          },
          "execution_count": 10,
          "metadata": {},
          "output_type": "execute_result"
        }
      ],
      "source": [
        "from sktime.forecasting.model_evaluation import evaluate\n",
        "from sktime.performance_metrics.forecasting import MeanAbsoluteScaledError\n",
        "from sktime.forecasting.naive import NaiveForecaster\n",
        "\n",
        "model = NaiveForecaster(strategy=\"last\")\n",
        "\n",
        "evaluate(\n",
        "    forecaster=model,\n",
        "    cv=expanding_window_cv,\n",
        "    y=y_train,\n",
        "    X=None, # Veremos na próxima seçao!\n",
        "    scoring=MeanAbsoluteScaledError(),\n",
        "    error_score=\"raise\",\n",
        "    return_data=True,\n",
        ")"
      ]
    }
  ],
  "metadata": {
    "kernelspec": {
      "display_name": "tsbook-py3.11",
      "language": "python",
      "name": "python3"
    },
    "language_info": {
      "codemirror_mode": {
        "name": "ipython",
        "version": 3
      },
      "file_extension": ".py",
      "mimetype": "text/x-python",
      "name": "python",
      "nbconvert_exporter": "python",
      "pygments_lexer": "ipython3",
      "version": "3.11.11"
    }
  },
  "nbformat": 4,
  "nbformat_minor": 4
}
