{
  "cells": [
    {
      "cell_type": "markdown",
      "metadata": {},
      "source": [
        "# Métricas e cross-validation\n",
        "\n",
        "Até então, vimos como criar modelos de séries temporais e avaliamos qualitativamente seu desempenho, em apenas uma simples divisão treino-teste. Agora, vamos explorar como avaliar modelos de séries temporais de forma mais robusta, utilizando métricas específicas e técnicas de validação cruzada adaptadas para dados temporais.\n",
        "\n",
        "\n",
        "\n",
        "## Métricas\n",
        "\n",
        "Primeiro vamos baixar os dados e criar um modelo simples.\n"
      ]
    },
    {
      "cell_type": "code",
      "metadata": {},
      "source": [
        "import matplotlib.pyplot as plt\n",
        "from tsbook.datasets.retail import SyntheticRetail\n",
        "from sktime.utils.plotting import plot_series\n",
        "from sktime.forecasting.naive import NaiveForecaster\n",
        "\n",
        "dataset = SyntheticRetail(\"univariate\")\n",
        "y_train, y_test = dataset.load(\"y_train\", \"y_test\")\n",
        "\n",
        "# Predict\n",
        "model = NaiveForecaster(strategy=\"last\")\n",
        "model.fit(y_train)\n",
        "y_pred = model.predict(fh=y_test.index)"
      ],
      "execution_count": null,
      "outputs": []
    },
    {
      "cell_type": "markdown",
      "metadata": {},
      "source": [
        "Para avaliar o desempenho de modelos de séries temporais, existem diversas métricas que podem ser utilizadas. \n",
        "\n",
        "Duas métricas básicas são:\n",
        "\n",
        "* **Mean Absolute Error (MAE)**: Média dos erros absolutos entre as previsões e os valores reais.\n",
        "$$\n",
        "MAE = \\frac{1}{h} \\sum_{t=T+1}^{T+h} |y_t - \\hat{y}_t|\n",
        "$$"
      ]
    },
    {
      "cell_type": "code",
      "metadata": {},
      "source": [
        "from sktime.performance_metrics.forecasting import MeanAbsoluteError\n",
        "\n",
        "metric = MeanAbsoluteError()\n",
        "metric(y_true=y_test, y_pred=y_pred)"
      ],
      "execution_count": null,
      "outputs": []
    },
    {
      "cell_type": "markdown",
      "metadata": {},
      "source": [
        "* **Mean Squared Error (MSE)**: Média dos erros quadráticos entre as previsões e os valores reais.\n",
        "\n",
        "$$\n",
        "MSE = \\frac{1}{h} \\sum_{t=T+1}^{T+h} (y_t - \\hat{y}_t)^2\n",
        "$$"
      ]
    },
    {
      "cell_type": "code",
      "metadata": {},
      "source": [
        "from sktime.performance_metrics.forecasting import MeanSquaredError\n",
        "\n",
        "metric = MeanSquaredError()\n",
        "metric(y_true=y_test, y_pred=y_pred)"
      ],
      "execution_count": null,
      "outputs": []
    },
    {
      "cell_type": "markdown",
      "metadata": {},
      "source": [
        "No entanto, essas métricas não levam em consideração a escala dos dados, o que pode ser um problema ao comparar desempenho entre diferentes séries temporais, e também na comunicação dos resultados para stakeholders.\n",
        "\n",
        "Em muitos meios, é comum usar métricas que eliminam o fator escala, como:\n",
        "\n",
        "* **Mean Absolute Percentage Error (MAPE)**: Média dos erros percentuais absolutos entre as previsões e os valores reais.\n",
        "\n",
        "$$\n",
        "MAPE = \\frac{1}{h} \\sum_{t=T+1}^{T+h} \\left| \\frac{y_t - \\hat{y}_t}{y_t} \\right|\n",
        "$$\n"
      ]
    },
    {
      "cell_type": "code",
      "metadata": {},
      "source": [
        "from sktime.performance_metrics.forecasting import MeanAbsolutePercentageError\n",
        "\n",
        "metric = MeanAbsolutePercentageError()\n",
        "metric(y_true=y_test, y_pred=y_pred)"
      ],
      "execution_count": null,
      "outputs": []
    },
    {
      "cell_type": "markdown",
      "metadata": {},
      "source": [
        "* **Symmetric Mean Absolute Percentage Error (sMAPE)**: Média dos erros percentuais absolutos simétricos entre as previsões e os valores reais."
      ]
    },
    {
      "cell_type": "code",
      "metadata": {},
      "source": [
        "metric = MeanAbsolutePercentageError(symmetric=True)\n",
        "metric(y_true=y_test, y_pred=y_pred)"
      ],
      "execution_count": null,
      "outputs": []
    },
    {
      "cell_type": "markdown",
      "metadata": {},
      "source": [
        "$$\n",
        "sMAPE = \\frac{1}{h} \\sum_{t=T+1}^{T+h} \\frac{|y_t - \\hat{y}_t|}{(|y_t| + |\\hat{y}_t|)/2}\n",
        "$$\n",
        "\n",
        "Essas métricas, no entanto, apresentam seus próprios problemas. Note que os valores\n",
        "podem ser exageradamente alto quando o denominador é próximo de zero. Ou seja, o MAPE e sMAPE podem ser problemáticos quando a série temporal contém valores próximos de zero.\n",
        "\n",
        "Outro tema é que essas métricas não consideram a dificuldade da série. Por exemplo, 5% de erro pode ser muito em uma série, e pouco em outra. Para isso, foram propostas métricas \"escalas\":\n",
        "\n",
        "* **Mean Absolute Scaled Error (MASE)**: dividimos o erro absoluto pelo erro absoluto médio de um naive nos dados de treino. Se:\n",
        "\n",
        "$$\n",
        "e_{naive} = \\frac{1}{T-1} \\sum_{t=2}^{T} |y_t - y_{t-1}|\n",
        "$$\n",
        "\n",
        "são os erros nos dados de treino, então:\n",
        "\n",
        "$$\n",
        "MASE = \\frac{1}{h} \\sum_{t=T+1}^{T+h} \\frac{|y_t - \\hat{y}_t|}{e_{naive}}\n",
        "$$\n"
      ]
    },
    {
      "cell_type": "code",
      "metadata": {},
      "source": [
        "from sktime.performance_metrics.forecasting import MeanAbsoluteScaledError\n",
        "\n",
        "metric = MeanAbsoluteScaledError()\n",
        "metric(y_true=y_test, y_pred=y_pred, y_train=y_train)"
      ],
      "execution_count": null,
      "outputs": []
    },
    {
      "cell_type": "markdown",
      "metadata": {},
      "source": [
        "* **Mean Squared Scaled Error (MSSE)**: dividimos o erro quadrático pelo quadrado de $e_{naive}$.\n",
        "\n",
        "$$\n",
        "MSSE = \\frac{1}{h} \\sum_{t=T+1}^{T+h} \\frac{(y_t - \\hat{y}_t)^2}{e_{naive}^2}\n",
        "$$"
      ]
    },
    {
      "cell_type": "code",
      "metadata": {},
      "source": [
        "from sktime.performance_metrics.forecasting import MeanSquaredScaledError\n",
        "\n",
        "metric = MeanSquaredScaledError()\n",
        "metric(y_true=y_test, y_pred=y_pred, y_train=y_train)"
      ],
      "execution_count": null,
      "outputs": []
    },
    {
      "cell_type": "markdown",
      "metadata": {},
      "source": [
        "## Cross-validation para séries temporais\n",
        "\n",
        "Em um cross-validation, nossa intenção é estimar corretamente o erro de generalização do modelo, ou seja, o erro que o modelo terá em dados futuros.\n",
        "\n",
        "$$\n",
        "\\mathbb{E}[L(Y, \\hat{Y})]\n",
        "$$\n",
        "\n",
        "Onde a média é sobre a distribuição que mais representa o que será visto em produção.\n",
        "\n",
        "Tipicamente, fazemos back-testing com dois tipos de janelas:\n",
        "\n",
        "* **Sliding window**: a janela de treino tem tamanho fixo, e \"desliza\" ao longo do tempo. A cada passo, o modelo é re-treinado com os dados mais recentes.\n"
      ]
    },
    {
      "cell_type": "code",
      "metadata": {},
      "source": [
        "from sktime.utils.plotting import plot_windows\n",
        "\n",
        "from sktime.split import SlidingWindowSplitter\n",
        "\n",
        "sliding_window_cv = SlidingWindowSplitter(\n",
        "    window_length=365 * 3, step_length=100, fh=list(range(1, 90 + 1))\n",
        ")\n",
        "plot_windows(cv=sliding_window_cv, y=y_train)\n",
        "plt.show()"
      ],
      "execution_count": null,
      "outputs": []
    },
    {
      "cell_type": "markdown",
      "metadata": {},
      "source": [
        "* **Expanding window**: a janela de treino começa com um tamanho mínimo, e vai aumentando ao longo do tempo, incluindo todos os dados anteriores. A cada passo, o modelo é re-treinado com todos os dados disponíveis até aquele ponto.\n"
      ]
    },
    {
      "cell_type": "code",
      "metadata": {},
      "source": [
        "from sktime.split import ExpandingWindowSplitter\n",
        "\n",
        "\n",
        "\n",
        "expanding_window_cv = ExpandingWindowSplitter(\n",
        "    initial_window=365 * 3, step_length=100, fh=list(range(1, 90 + 1))\n",
        ")\n",
        "plot_windows(cv=expanding_window_cv, y=y_train)\n",
        "plt.show()"
      ],
      "execution_count": null,
      "outputs": []
    },
    {
      "cell_type": "markdown",
      "metadata": {},
      "source": [
        "::: .{callout-tip}\n",
        "\n",
        "Qual escolher? Bom, escolha o que mais representa o que você espera ver em produção.\n",
        "\n",
        ":::\n",
        "\n",
        "\n",
        "## Executando o cross-validation\n",
        "\n",
        "Para executar cross-validation, usamos a função `evaluate`, que recebe o modelo, o esquema de cross-validation, os dados, e a métrica a ser usada."
      ]
    },
    {
      "cell_type": "code",
      "metadata": {},
      "source": [
        "from sktime.forecasting.model_evaluation import evaluate\n",
        "from sktime.performance_metrics.forecasting import MeanAbsoluteScaledError\n",
        "from sktime.forecasting.naive import NaiveForecaster\n",
        "\n",
        "model = NaiveForecaster(strategy=\"last\")\n",
        "\n",
        "evaluate(\n",
        "    forecaster=model,\n",
        "    cv=expanding_window_cv,\n",
        "    y=y_train,\n",
        "    X=None, # Veremos na próxima seçao!\n",
        "    scoring=MeanAbsoluteScaledError(),\n",
        "    error_score=\"raise\",\n",
        "    return_data=True,\n",
        ")"
      ],
      "execution_count": null,
      "outputs": []
    }
  ],
  "metadata": {
    "kernelspec": {
      "name": "python3",
      "language": "python",
      "display_name": "Python 3 (ipykernel)",
      "path": "/Users/felipeangelim/Workspace/python_brasil_2025/.venv/share/jupyter/kernels/python3"
    }
  },
  "nbformat": 4,
  "nbformat_minor": 4
}