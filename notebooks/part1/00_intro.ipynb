{
  "cells": [
    {
      "cell_type": "markdown",
      "metadata": {},
      "source": [
        "# Definição do problema\n",
        "\n",
        "Em modelos de regressão e classificação básicos, supomos que os dados são i.i.d: variaveis aleatórias independentes e identicamente distribuidas. Ou seja, a ordem que observamos os dados não tem nenhum impacto em nossa habilidade de prever quais serão as próximas observações.\n",
        "\n",
        "Vamos considerar um experimento simples: temos uma caixa com bolas pretas e vermelhas dentro. \n",
        "Digamos que as bolas pretas valem 1 e as bolas vermelhas valem 0.  Queremos descobrir qual a quantidade de pontos vamos ter na próxima rodada.\n",
        "\n",
        "![Bolas pretas e vermelhas](./balls1.png){width=300px}\n",
        "\n",
        "Se as bolas estão distribuidas aleatóriamente dentro da caixa, podemos esperar ver algo como a seguinte sequência de pontos:\n",
        "\n",
        "$$\n",
        "\\{0, 1, 1, 0, 1, 0, 0, \\dots \\}\n",
        "$$\n",
        "\n",
        "Nesse caso, a ordem dos pontos não importa. Não importa o que vimos até então; a próxima bola que vamos tirar da caixa é independente das bolas que já tiramos.\n",
        "\n",
        "Vamos supor um caso ligeiramente diferente. Agora, as bolas estão organizadas em blocos: primeiro todas as bolas pretas, depois todas as bolas vermelhas, depois todas as bolas pretas de novo, e assim por diante. Nesse caso, podemos esperar ver algo como:\n",
        "\n",
        "$$\n",
        "\\{1, 1, 1, 0, 0, 0, 1, 1, 1, \\dots \\}\n",
        "$$\n",
        "\n",
        "Nesse caso, a ordem dos pontos importa. Se vimos muitas bolas pretas recentemente, é mais provável que vejamos uma bola preta na próxima rodada. A próxima bola que vamos tirar da caixa depende das bolas que já tiramos. Esse é um caso básico de aplicação de **modelos de previsão de séries temporais**.\n",
        "\n",
        "Considerando que cada observação é indexada por uma variável temporal, podemos definir uma série temporal como uma sequência de observações ordenadas no tempo. Exemplos comuns de séries temporais incluem:\n",
        "\n",
        "* Varejo: vendas diárias, semanais ou mensais de um produto\n",
        "* Finanças: preços diários de ações, taxas de câmbio\n",
        "* Saúde: número diário de novos casos de uma doença\n",
        "* Clima: temperatura diária, precipitação mensal\n",
        "\n",
        "Esse livro é uma introdução prática a modelos de séries temporais, com objetivo de dar contexto das ferramentas mais relevantes em 3h de leitura."
      ]
    }
  ],
  "metadata": {
    "kernelspec": {
      "name": "python3",
      "language": "python",
      "display_name": "Python 3 (ipykernel)",
      "path": "/Users/felipeangelim/Workspace/python_brasil_2025/.venv/share/jupyter/kernels/python3"
    }
  },
  "nbformat": 4,
  "nbformat_minor": 4
}