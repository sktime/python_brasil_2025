{
  "cells": [
    {
      "cell_type": "markdown",
      "metadata": {},
      "source": [
        "# Primeiro passos com sktime e modelo Naive\n",
        "\n",
        "Considerando o nosso exemplo da caixa com bolas pretas e vermelhas, um modelo simples para prever a próxima bola que vamos tirar da caixa é o **Modelo Naive**. \n",
        "\n",
        "Existem algumas versões de modelo naive:\n",
        "\n",
        "* **Naive (last)**: a previsão para o próximo ponto é igual ao último ponto observado. \n",
        "* **Naive (mean)**: a previsão para o próximo ponto é igual à média dos pontos observados numa janela passada.\n",
        "* **Naive Sazonal**: a previsão para o próximo ponto é igual ao ponto observado na mesma posição em um ciclo anterior. Por exemplo, se estamos prevendo vendas diárias e hoje é segunda-feira, a previsão para hoje é igual às vendas da última segunda-feira.\n",
        "  \n",
        "\n",
        "Esse modelo é simples, mas é extremamente eficaz e dificil de ser vencido em muitos casos.\n",
        "No cenário onde os dados não vêm organizados em nenhuma ordem específica, a melhor aposta que podemos fazer é o valor médio das bolas no histórico recente.\n",
        "\n",
        "Vamos ver como fazer um forecast simples com sktime, usando o modelo Naive.\n",
        "\n",
        "## Exemplo prático com sktime\n",
        "\n",
        "Aqui, baixamos o dataset simples que vem na biblioteca desse repositório."
      ]
    },
    {
      "cell_type": "code",
      "metadata": {},
      "source": [
        "from tsbook.datasets.simple import SimpleDataset\n",
        "\n",
        "\n",
        "dataset = SimpleDataset(True)\n",
        "y = dataset.load(\"y\")\n",
        "\n",
        "y.head()"
      ],
      "execution_count": null,
      "outputs": []
    },
    {
      "cell_type": "markdown",
      "metadata": {},
      "source": [
        "Esse é um dataset simples com uma série temporal mensal. Vamos dividir os dados em treino e teste, usando os últimos 36 meses como teste. Para isso, devemos respeitar a ordem temporal dos dados.\n",
        "\n",
        "A função `temporal_train_test_split` faz isso para nós."
      ]
    },
    {
      "cell_type": "code",
      "metadata": {},
      "source": [
        "from sktime.forecasting.model_selection import temporal_train_test_split\n",
        "y_train, y_test = temporal_train_test_split(y, test_size=36)"
      ],
      "execution_count": null,
      "outputs": []
    },
    {
      "cell_type": "markdown",
      "metadata": {},
      "source": [
        "Também temos uma função de plotagem simples para visualizar séries temporais."
      ]
    },
    {
      "cell_type": "code",
      "metadata": {},
      "source": [
        "from sktime.utils.plotting import plot_series\n",
        "\n",
        "plot_series(y, labels=[\"Observações\"])"
      ],
      "execution_count": null,
      "outputs": []
    },
    {
      "cell_type": "markdown",
      "metadata": {},
      "source": [
        "### Criando o modelo\n",
        "\n",
        "No sktime, os modelos são usados em 3 passos:\n",
        "\n",
        "* Inicialização (`__init__`): aqui, definimos os hiperparâmetros do modelo. Pense nessa parte como a configuração do modelo.\n",
        "* Treinamento (`fit`): aqui, o modelo aprende com os dados de treino.\n",
        "* Previsão (`predict`): com esse método, o modelo faz previsões para os dados futuros.\n",
        "\n",
        "Quando inicializamos o modelo em um notebook, o sktime mostra uma ilustração do modelo, o que é útil para entender o que está acontecendo \"por baixo dos panos\".\n",
        "Em casos mais complexos com composição de modelos, isso pode ser útil para ilustrar o que estamos fazendo para outros cientistas."
      ]
    },
    {
      "cell_type": "code",
      "metadata": {},
      "source": [
        "from sktime.forecasting.naive import NaiveForecaster\n",
        "\n",
        "model = NaiveForecaster(strategy=\"last\")\n",
        "model"
      ],
      "execution_count": null,
      "outputs": []
    },
    {
      "cell_type": "markdown",
      "metadata": {},
      "source": [
        "Ao treinar o modelo, passamos dados de treinamento."
      ]
    },
    {
      "cell_type": "code",
      "metadata": {},
      "source": [
        "model.fit(y_train)"
      ],
      "execution_count": null,
      "outputs": []
    },
    {
      "cell_type": "markdown",
      "metadata": {},
      "source": [
        "Para a previsão, temos que passar um argumento obrigatório: `fh`, abreviatura de \"forecasting horizon\" (horizonte de previsão). Tipicamente passamos um `fh` relativo, ou seja, no formato de uma lista "
      ]
    },
    {
      "cell_type": "code",
      "metadata": {},
      "source": [
        "model.predict(fh=[1,2,3,4])"
      ],
      "execution_count": null,
      "outputs": []
    },
    {
      "cell_type": "markdown",
      "metadata": {},
      "source": [
        "Onde cada número representa o número de períodos à frente que queremos prever. Também podemos passar o `fh` como um índice de tempo absoluto, que é o que faremos aqui. Vamos passar o índice de tempo do conjunto de teste."
      ]
    },
    {
      "cell_type": "code",
      "metadata": {},
      "source": [
        "y_pred = model.predict(fh=y_test.index)\n",
        "\n",
        "plot_series(y_train, y_test, y_pred, labels=[\"Treino\", \"Teste\", \"Previsão\"])"
      ],
      "execution_count": null,
      "outputs": []
    },
    {
      "cell_type": "markdown",
      "metadata": {},
      "source": [
        "### Ajustando hiperparâmetros\n",
        "\n",
        "Para alterar hiperparametros de um modelo já existente, podemos usar o método `set_params`, que modifica *in-place* os hiperparâmetros do modelo."
      ]
    },
    {
      "cell_type": "code",
      "metadata": {},
      "source": [
        "model.set_params(\n",
        "    strategy=\"mean\",\n",
        "    window_length=12,\n",
        ")\n",
        "\n",
        "model.fit(y_train)\n",
        "y_pred = model.predict(fh=y_test.index)\n",
        "\n",
        "\n",
        "plot_series(y_train, y_test, y_pred, labels=[\"Treino\", \"Teste\", \"Previsão\"])"
      ],
      "execution_count": null,
      "outputs": []
    },
    {
      "cell_type": "markdown",
      "metadata": {},
      "source": [
        "Podemos também testar o Naive sazonal, que repete a última observação de `6` períodos atrás."
      ]
    },
    {
      "cell_type": "code",
      "metadata": {},
      "source": [
        "model.set_params(\n",
        "    sp=6,\n",
        "    strategy=\"last\"\n",
        "\n",
        ")\n",
        "model.fit(y_train)\n",
        "y_pred = model.predict(fh=y_test.index)\n",
        "plot_series(y_train, y_test, y_pred, labels=[\"Treino\", \"Teste\", \"Previsão\"])"
      ],
      "execution_count": null,
      "outputs": []
    },
    {
      "cell_type": "markdown",
      "metadata": {},
      "source": [
        "Claro, como esse exemplo é muito simples, o modelo naive sazonal captura perfeitamente a sazonalidade dos dados. No entanto, vamos ver no próximo capítulo um caso de uso mais realista, com dados de varejo, e estudaremos modelos mais avançados."
      ]
    }
  ],
  "metadata": {
    "kernelspec": {
      "name": "python3",
      "language": "python",
      "display_name": "Python 3 (ipykernel)",
      "path": "/Users/felipeangelim/Workspace/python_brasil_2025/.venv/share/jupyter/kernels/python3"
    }
  },
  "nbformat": 4,
  "nbformat_minor": 4
}