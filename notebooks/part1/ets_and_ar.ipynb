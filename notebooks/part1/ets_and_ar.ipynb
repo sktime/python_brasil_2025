{
  "cells": [
    {
      "cell_type": "markdown",
      "metadata": {},
      "source": [
        "# Modelos estatísticos clássicos e diferenciação\n",
        "\n",
        "## Exponential Smoothing\n",
        "\n",
        "O Modelo Naive, que calculada a média dos últimos valores, é um modelo muito simples, mas que pode ser melhorado. Analizando o que ele faz:\n",
        "\n",
        "$$\n",
        "\\hat{Y}(t) = \\frac{Y(t-1) + Y(t-2) + \\dots + Y(t-n)}{n}\n",
        "$$\n",
        "\n",
        "Ele basicamente atribui o mesmo peso para todas as observações passadas. Mas, intuitivamente, faz mais sentido dar mais peso para as observações mais recentes, e menos peso para as observações mais antigas.\n",
        "\n",
        "O exponential smoothing faz exatamente isso. Ele atribui pesos decrescentes para observações mais antigas. O peso da observação decresce exponencialmente segundo um fator $0 < \\alpha < 1$ [@hyndman2018forecasting]:\n",
        "\n",
        "$$\n",
        "\\hat{Y}(t) = \\alpha Y(t-1) + \\alpha(1 - \\alpha)Y(t-1) + \\alpha(1 - \\alpha)^2 Y(t-2) + \\dots\n",
        "$$\n"
      ]
    },
    {
      "cell_type": "code",
      "metadata": {},
      "source": [
        "import matplotlib.pyplot as plt\n",
        "\n",
        "fig, ax = plt.subplots(1, 1, figsize=(6, 4))\n",
        "alpha = 0.3\n",
        "weights = [alpha * (1 - alpha) ** i for i in range(20)]\n",
        "ax.bar(range(len(weights)), weights)\n",
        "ax.set_title(\"Pesos do Exponential Smoothing\")\n",
        "ax.set_xlabel(\"Observações passadas\")\n",
        "ax.set_ylabel(\"Peso\")\n",
        "plt.show()"
      ],
      "execution_count": null,
      "outputs": []
    },
    {
      "cell_type": "markdown",
      "metadata": {},
      "source": [
        "### Usando Exponential Smoothing com sktime"
      ]
    },
    {
      "cell_type": "code",
      "metadata": {},
      "source": [
        "from tsbook.datasets.retail import SyntheticRetail\n",
        "from sktime.utils.plotting import plot_series\n",
        "\n",
        "dataset = SyntheticRetail(\"univariate\")\n",
        "y_train, y_test = dataset.load(\"y_train\", \"y_test\")"
      ],
      "execution_count": null,
      "outputs": []
    },
    {
      "cell_type": "code",
      "metadata": {},
      "source": [
        "from sktime.utils.plotting import plot_series\n",
        "from sktime.forecasting.exp_smoothing import ExponentialSmoothing\n",
        "\n",
        "model = ExponentialSmoothing()\n",
        "model.fit(y_train)"
      ],
      "execution_count": null,
      "outputs": []
    },
    {
      "cell_type": "code",
      "metadata": {},
      "source": [
        "y_pred = model.predict(fh=y_test.index)\n",
        "plot_series(y_train, y_test, y_pred, labels=[\"Treino\", \"Teste\", \"Previsão Exponential Smoothing\"])"
      ],
      "execution_count": null,
      "outputs": []
    },
    {
      "cell_type": "markdown",
      "metadata": {},
      "source": [
        "Existem versões alternativas que consideram sazonalidade e tendências. Veja a [documentação](https://www.sktime.org/en/stable/api_reference/auto_generated/sktime.forecasting.exp_smoothing.ExponentialSmoothing.html) para mais detalhes.\n"
      ]
    },
    {
      "cell_type": "code",
      "metadata": {},
      "source": [
        "model = ExponentialSmoothing(trend=\"add\", seasonal=\"add\", sp=7)\n",
        "model.fit(y_train)\n",
        "y_pred = model.predict(fh=y_test.index)\n",
        "plot_series(\n",
        "    y_train,\n",
        "    y_test,\n",
        "    y_pred,\n",
        "    labels=[\"Treino\", \"Teste\", \"Previsão Exponential Smoothing\"],\n",
        ")"
      ],
      "execution_count": null,
      "outputs": []
    },
    {
      "cell_type": "markdown",
      "metadata": {},
      "source": [
        "## Modelos autoregressivos (AR)\n",
        "\n",
        "Modelos autoregressivos (AR) são modelos que prevem o valor atual de uma série temporal como uma combinação dos valores passados. O modelo AR(p) usa os últimos p valores para fazer a previsão:\n",
        "\n",
        "$$\n",
        "\\hat{Y}(t) = \\phi_1 Y(t-1) + \\phi_2 Y(t-2) + \\dots + \\phi_p Y(t-p)\n",
        "$$\n",
        "\n",
        "onde $\\phi_1, \\phi_2, \\dots, \\phi_p$ são os parâmetros do modelo que precisam ser estimados a partir dos dados."
      ]
    },
    {
      "cell_type": "code",
      "metadata": {},
      "source": [
        "from sktime.forecasting.auto_reg import AutoREG\n",
        "from sktime.utils.plotting import plot_series\n",
        "\n",
        "model = AutoREG(lags=31)\n",
        "model.fit(y_train)\n",
        "\n",
        "y_pred = model.predict(fh=y_test.index)\n",
        "plot_series(\n",
        "    y_train,\n",
        "    y_test,\n",
        "    y_pred,\n",
        "    labels=[\"Treino\", \"Teste\", \"Previsão AR\"],\n",
        ")"
      ],
      "execution_count": null,
      "outputs": []
    },
    {
      "cell_type": "markdown",
      "metadata": {},
      "source": [
        "Um modelo auto-regressivo mais complexo é o ARIMA, que combina autoregressão (AR), média móvel (MA) e diferenciação integrada (I) para lidar com séries temporais não estacionárias. Não vamos estudar o ARIMA aqui pois envolve conceitos mais avançados, mas temos ele disponível no sktime, `sktime.forecasting.arima.ARIMA`.\n",
        "\n",
        "## STL: dividir e conquistar\n",
        "\n",
        "Sabemos que séries temporais podem ser decompostas em componentes de tendência, sazonalidade e resíduos. O modelo STL (Seasonal and Trend decomposition using Loess) é uma técnica que permite fazer essa decomposição de forma robusta.\n",
        "\n",
        "Temos no sktime o `STLTransformer`, que permite fazer a decomposição STL:"
      ]
    },
    {
      "cell_type": "code",
      "metadata": {},
      "source": [
        "from sktime.transformations.series.detrend import STLTransformer\n",
        "\n",
        "stl = STLTransformer(sp=365)\n",
        "stl.fit(y_train)"
      ],
      "execution_count": null,
      "outputs": []
    },
    {
      "cell_type": "markdown",
      "metadata": {},
      "source": [
        "E agora podemos inspecionar os componentes:"
      ]
    },
    {
      "cell_type": "code",
      "metadata": {},
      "source": [
        "fig, ax = plt.subplots(3, 1, figsize=(10, 8), sharex=True)\n",
        "stl.trend_.plot.line(ax=ax[0])\n",
        "ax[0].set_title(\"Tendência\")\n",
        "stl.seasonal_.plot.line(ax=ax[1])\n",
        "ax[1].set_title(\"Sazonalidade\")\n",
        "stl.resid_.plot.line(ax=ax[2])\n",
        "ax[2].set_title(\"Resíduos\")\n",
        "fig.show()"
      ],
      "execution_count": null,
      "outputs": []
    },
    {
      "cell_type": "markdown",
      "metadata": {},
      "source": [
        "Uma possibilidade, uma vez que temos os diferentes componentes, é modelar cada componente separadamente e depois combinar as previsões. O sktime tem o `STLForecaster`, que faz exatamente isso:"
      ]
    },
    {
      "cell_type": "code",
      "metadata": {},
      "source": [
        "from sktime.forecasting.trend import STLForecaster\n",
        "from sktime.forecasting.naive import NaiveForecaster\n",
        "\n",
        "model = STLForecaster(\n",
        "    forecaster_trend=AutoREG(lags=31),\n",
        "    forecaster_seasonal=NaiveForecaster(sp=7),\n",
        "    forecaster_resid=AutoREG(lags=31),\n",
        "    sp=7,\n",
        ")\n",
        "\n",
        "model.fit(y_train)\n",
        "y_pred = model.predict(fh=y_test.index)\n",
        "\n",
        "plot_series(\n",
        "    y_train,\n",
        "    y_test,\n",
        "    y_pred,\n",
        "    labels=[\"Treino\", \"Teste\", \"Previsão STL + AR\"],\n",
        ")"
      ],
      "execution_count": null,
      "outputs": []
    },
    {
      "cell_type": "markdown",
      "metadata": {},
      "source": [
        "Para fins de demonstração, podemos complicar um pouco mais o modelo, modelando os resíduos com outro `STLForecaster`:"
      ]
    },
    {
      "cell_type": "code",
      "metadata": {},
      "source": [
        "model = STLForecaster(\n",
        "    forecaster_trend=AutoREG(lags=31),\n",
        "    forecaster_seasonal=NaiveForecaster(sp=7),\n",
        "    forecaster_resid=STLForecaster(\n",
        "        forecaster_trend=AutoREG(lags=31),\n",
        "        forecaster_seasonal=NaiveForecaster(sp=365),\n",
        "        forecaster_resid=AutoREG(lags=31),\n",
        "        sp=365,\n",
        "    ),\n",
        "    sp=7,\n",
        ")\n",
        "\n",
        "model.fit(y_train)"
      ],
      "execution_count": null,
      "outputs": []
    },
    {
      "cell_type": "code",
      "metadata": {},
      "source": [
        "y_pred = model.predict(fh=y_test.index)\n",
        "\n",
        "plot_series(\n",
        "    y_train,\n",
        "    y_test,\n",
        "    y_pred,\n",
        "    labels=[\"Treino\", \"Teste\", \"Previsão STL + AR\"],\n",
        ")"
      ],
      "execution_count": null,
      "outputs": []
    }
  ],
  "metadata": {
    "kernelspec": {
      "name": "python3",
      "language": "python",
      "display_name": "Python 3 (ipykernel)",
      "path": "/Users/felipeangelim/Workspace/python_brasil_2025/.venv/share/jupyter/kernels/python3"
    }
  },
  "nbformat": 4,
  "nbformat_minor": 4
}