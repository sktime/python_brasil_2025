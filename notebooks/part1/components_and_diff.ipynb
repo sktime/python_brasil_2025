{
  "cells": [
    {
      "cell_type": "markdown",
      "metadata": {},
      "source": [
        "# Decomposição de séries temporais e modelos clássicos\n",
        "\n",
        "Nesse capítulo, vamos começar a usar um dataset mais realista, com dados simulando vendas diárias de uma empresa de varejo. \n",
        "\n",
        "Vamos aprender os seguintes pontos:\n",
        "\n",
        "* Definição de séries integradas, e uso de diferenciação\n",
        "* Modelos estatísticos clássicos: modelos de suavização exponencial e modelos autoregressivos (AR)\n",
        "* Como usar esses modelos com a biblioteca `sktime`\n",
        "\n",
        "\n",
        "## Importando dados\n",
        "\n",
        "Para acessar os dados, vamos usar a classe `SyntheticRetail` da biblioteca `tsbook`, que contém dados simulados de vendas diárias de uma empresa de varejo."
      ]
    },
    {
      "cell_type": "code",
      "metadata": {},
      "source": [
        "from tsbook.datasets.retail import SyntheticRetail\n",
        "from sktime.utils.plotting import plot_series\n",
        "\n",
        "dataset = SyntheticRetail(\"univariate\")\n",
        "y_train, y_test = dataset.load(\"y_train\", \"y_test\")\n",
        "\n",
        "plot_series(y_train, y_test, labels=[\"Treino\", \"Teste\"])"
      ],
      "execution_count": null,
      "outputs": []
    },
    {
      "cell_type": "markdown",
      "metadata": {},
      "source": [
        "Os dados são diários, e vemos que sempre positivos. Também notamos que existe alguma sazonalidade, aparentemente algo mensal e anual, que aumenta de magnitude ao longo do tempo.\n",
        "\n",
        "Algo que deve chamar a atenção nesse gráfico é que a magnitude da série temporal está aumentando ao longo do tempo. Isso não deve passar desapercebido, pois é um ponto importante para entendermos o que vem a seguir.\n",
        "\n",
        "\n",
        "## Auto-correlação\n",
        "\n",
        "É interessante entender o quanto de informação o passado de uma série temporal carrega sobre o seu futuro. Uma maneira de capturar essa relação (considerando variações lineares) é através da auto-correlação. A autocorrelação para um determinado lag $k$ é definida como:\n",
        "\n",
        "$$\n",
        "\\text{Corr}(Y_t,Y_{t-k})=\\frac{\\text{Cov}(Y_t,Y_{t-k})}{\\sqrt{\\text{Var}(Y_t)\\text{Var}(Y_{t-k})}} = \\frac{E[(Y_t - \\mu)(Y_{t-k} - \\mu)]}{\\sqrt{\\text{Var}(Y_t)\\text{Var}(Y_{t-k})}}\n",
        "$$\n",
        "\n",
        "Em outras palavras, quando o valor em $k$ observações atrás está acima (ou abaixo) da média, o valor atual também tende a estar acima (ou abaixo) da média?\n",
        "\n",
        "Com `plot_correlations`, podemos visualizar algumas informações úteis:\n",
        "\n",
        "1. No plot superior, vemos a série temporal original.\n",
        "2. No canto inferior esquerdo, temos o gráfico de autocorrelação (ACF), que mostra a correlação entre a série temporal e suas versões defasadas (lags). Valores próximos de 1 ou -1 indicam uma forte correlação positiva ou negativa, respectivamente.\n",
        "3. No canto inferior direito, temos o gráfico de autocorrelação parcial (PACF), que mostra a correlação entre a série temporal e suas versões defasadas, controlando para as correlações intermediárias. É útil para entender o efeito isolado de um lag."
      ]
    },
    {
      "cell_type": "code",
      "metadata": {},
      "source": [
        "from sktime.utils.plotting import plot_correlations\n",
        "\n",
        "\n",
        "fig, ax = plot_correlations(y_train, lags=60)\n",
        "fig.show()"
      ],
      "execution_count": null,
      "outputs": []
    },
    {
      "cell_type": "markdown",
      "metadata": {},
      "source": [
        "No gráfico de autocorrelação, vemos algumas características interessantes:\n",
        "\n",
        "1. Valores são extremamente altos, e decaem lentamente ao longo do tempo.\n",
        "2. Existem oscilações claras, indicando padrões sazonais na série temporal.\n",
        "\n",
        "::: {.callout-tip}\n",
        "\n",
        "\n",
        "É um erro comum usar a correlação de lags de uma série para seleção de variáveis (lags). Sempre que possível, devemos eliminar a tendência antes de analisar a autocorrelação.\n",
        "\n",
        "::: \n",
        "\n",
        "Veremos que esses padrões são indicativos de que a série temporal possui componentes importantes, e que valores passados dizem muito sobre valores futuros.\n",
        "\n",
        "## Componentes de séries temporais\n",
        "\n",
        "Séries temporais podem ser decompostas em 3 componentes principais:\n",
        "\n",
        "* Tendência: padrão de longo prazo na série temporal\n",
        "* Sazonalidade: padrões que se repetem em intervalos regulares, como diariamente, semanalmente ou anualmente\n",
        "* Ruído: variação aleatória que não pode ser explicada pelos outros componentes\n",
        "\n",
        "Uma série aditiva pode ser representada como:\n",
        "\n",
        "$$\n",
        "Y(t) = T(t) + S(t) + R(t)\n",
        "$$\n",
        "\n",
        "onde $T(t)$ é a tendência, $S(t)$ é a sazonalidade, e $R(t)$ é o ruído. \n",
        "\n",
        "Em séries aditivas, o impacto da sazonalidade se dá em termos absolutos, dizemos: \"em janeiro, as vendas aumentam em 100 unidades com relação a média do ano\".\n",
        "\n",
        "Mas também existem séries multiplicativas, onde os componentes interagem de forma diferente:\n",
        "\n",
        "$$\n",
        "Y(t) = T(t) \\cdot S(t) \\cdot R(t)\n",
        "$$\n",
        "\n",
        "\n",
        "Nessas séries, o impacto da sazonalidade se dá em termos relativos, dizemos: \"em janeiro, as vendas aumentam em 20% com relação a média do ano\". Esse é o caso mais comum para séries não-negativas, como vendas. Isso vem por definição: se temos vendas muito baixas, por exemplo, 10 unidades, não faz sentido dizer que em janeiro as vendas diminuem em 100 unidades, pois isso levaria a vendas negativas. Já dizer que as vendas diminuem em 20% é perfeitamente razoável.\n",
        "\n",
        "\n",
        "::: {.callout-tip}\n",
        "\n",
        "Em alguns casos, as séries multiplicativas são definidas como:\n",
        "\n",
        "$$\n",
        "Y(t) = T(t) + T(t) \\cdot S(t) + T(t) \\cdot R(t)\n",
        "$$\n",
        "\n",
        ":::\n",
        "\n",
        "\n",
        "Quando a série é multiplicativa, podemos fazer recurso ao logaritmo para transformá-la em aditiva:\n",
        "\n",
        "$$\n",
        "log(Y(t)) = log(T(t)) + log(S(t)) + log(R(t))\n",
        "$$\n",
        "\n",
        "Para fazer isso no sktime, usamos o transformador `LogTransformer`. Transformadores são usados para pré-processar ou pós-processar os dados antes de aplicar um modelo de previsão, e sua interface é similar a dos modelos de previsão:\n",
        "\n",
        "* `__init__`: define os hiperparâmetros do transformador\n",
        "* `fit`: aprende os parâmetros do transformador a partir dos dados\n",
        "* `transform`: aplica a transformação nos dados\n",
        "* `inverse_transform` (opcional): aplica a transformação inversa nos dados\n"
      ]
    },
    {
      "cell_type": "code",
      "metadata": {},
      "source": [
        "from sktime.transformations.series.boxcox import LogTransformer\n",
        "log_transformer = LogTransformer()\n",
        "log_transformer.fit(y_train)"
      ],
      "execution_count": null,
      "outputs": []
    },
    {
      "cell_type": "code",
      "metadata": {},
      "source": [
        "y_train_log = log_transformer.transform(y_train)\n",
        "plot_series(y_train_log, labels=[\"Logaritmo\"])"
      ],
      "execution_count": null,
      "outputs": []
    },
    {
      "cell_type": "markdown",
      "metadata": {},
      "source": [
        "Ainda que não esteja perfeito, essa transformação estabiliza as variações da série temporal, o que é importante para alguns modelos de previsão.\n",
        "\n",
        "\n",
        "### Decompondo a série temporal\n",
        "\n",
        "\n",
        "Sktime fornece algumas opções para decompor séries temporais. Aqui, vamos usar o `Detrender` para remover a tendência, e o `Deseasonalizer` para remover a sazonalidade.\n",
        "\n",
        "#### Tendência"
      ]
    },
    {
      "cell_type": "code",
      "metadata": {},
      "source": [
        "from sktime.transformations.series.detrend import Detrender, Deseasonalizer\n",
        "\n",
        "\n",
        "detrender = LogTransformer() * Detrender(model=\"additive\")\n",
        "detrender.fit(y_train)\n",
        "y_train_detrended = detrender.transform(y_train)\n",
        "plot_series(y_train_detrended, labels=[\"Detrended\"])"
      ],
      "execution_count": null,
      "outputs": []
    },
    {
      "cell_type": "markdown",
      "metadata": {},
      "source": [
        "Vemos uma mudança importante no gráfico de autocorrelação:"
      ]
    },
    {
      "cell_type": "code",
      "metadata": {},
      "source": [
        "fig, _ = plot_correlations(y_train_detrended, lags=60)\n",
        "fig.show()"
      ],
      "execution_count": null,
      "outputs": []
    },
    {
      "cell_type": "markdown",
      "metadata": {},
      "source": [
        "O que indica que, ao eliminar a tendencia, a informação que o passado carrega sobre o futuro diminuiu bastante. Na verdade, a existência da tendência - um efeito de longo prazo - faz com que valores passados sejam altamente correlacionados com valores futuros, e pode dar a falsa impressão de que a série é \"fácil\" de modelar.\n",
        "\n",
        "\n",
        "#### Sazonalidade\n",
        "\n",
        "Agora, usamos o `Deseasonalizer` para remover a sazonalidade:"
      ]
    },
    {
      "cell_type": "code",
      "metadata": {},
      "source": [
        "deseasonalizer = LogTransformer() * Deseasonalizer(model=\"additive\", sp=365)\n",
        "deseasonalizer.fit(y_train)\n",
        "y_train_deseasonalized = deseasonalizer.transform(y_train)\n",
        "plot_series(y_train_log, y_train_deseasonalized, labels=[\"Log with seasonality\", \"Deseasonalized\"])"
      ],
      "execution_count": null,
      "outputs": []
    },
    {
      "cell_type": "markdown",
      "metadata": {},
      "source": [
        "Podemos usar o `Detrender` e o `Deseasonalizer` juntos para remover ambos os componentes:"
      ]
    },
    {
      "cell_type": "code",
      "metadata": {},
      "source": [
        "remove_components = LogTransformer() * Detrender(model=\"additive\") * Deseasonalizer(model=\"additive\", sp=365) \n",
        "remove_components.fit(y_train)\n",
        "y_train_removed = remove_components.transform(y_train)\n",
        "plot_series(y_train_log, y_train_removed, labels=[\"Log with seasonality\", \"Deseasonalized and detrended\"])"
      ],
      "execution_count": null,
      "outputs": []
    },
    {
      "cell_type": "code",
      "metadata": {},
      "source": [
        "fig, _ = plot_correlations(y_train_removed, lags=60)\n",
        "fig.show()"
      ],
      "execution_count": null,
      "outputs": []
    },
    {
      "cell_type": "markdown",
      "metadata": {},
      "source": [
        "::: {.callout-tip}\n",
        "Tente adicionar mais um deseasonalizer para remover a sazonalidade semanal.\n",
        ":::\n",
        "\n",
        "## Séries estacionárias\n",
        "\n",
        "O conceito de estacionariedade é fundamental em séries temporais. Uma série temporal é dita estacionária se suas propriedades estatísticas, como média, variância e autocovariância, são constantes ao longo do tempo, não importando a janela e quando ela é observada.\n",
        "\n",
        "\n",
        "::: .{.callout-tip}\n",
        "\n",
        "Mais precisamente, se $Y(t)$, onde $t$ é o indice temporal, então dizemos que ela é estacionária se:\n",
        "\n",
        "$$\n",
        "P(Y(t_{start}:t_{end})) = P(Y(t_{start}+k:t_{end}+k)), \\quad \\forall k, t_{start}, t_{end} \\in \\mathbb{Z}\n",
        "$$\n",
        "\n",
        ":::\n",
        "\n",
        "Claramente, a série temporal que estamos analisando não é estacionária. Basta percebermos que para valores maiores de $t$, a média e a variância são maiores.\n",
        "\n",
        "O aumento da média da série ao longo do tempo é chamado de **tendência**. A tendência é um padrão de longo prazo na série temporal, e um grande desafio para previsões de longo prazo.\n",
        "\n",
        "Existem definições mais \"suaves\" de estacionariedade, como a estacionariedade fraca, que requer apenas que propriedades como média e autovariância sejam constantes ao longo do tempo. \n",
        "\n",
        "No fundo, o que nos interessa mais é ter uma série temporal que seja \"fácil\"de modelar. Para alguns algoritmos, como Naive, é importante que ela seja o mais próxima possível de estacionária. Veja abaixo o problema geraodo quando aplicamos o modelo Naive diretamente na série temporal original."
      ]
    },
    {
      "cell_type": "code",
      "metadata": {},
      "source": [
        "from sktime.forecasting.naive import NaiveForecaster\n",
        "\n",
        "naive = NaiveForecaster(strategy=\"mean\", window_length=24)\n",
        "naive.fit(y_train)\n",
        "y_pred = naive.predict(fh=y_test.index)\n",
        "\n",
        "plot_series(y_train, y_test, y_pred, labels=[\"Treino\", \"Teste\", \"Previsão Naive\"])"
      ],
      "execution_count": null,
      "outputs": []
    },
    {
      "cell_type": "markdown",
      "metadata": {},
      "source": [
        "### Diferenciação\n",
        "\n",
        "Uma técnica simples e eficaz para lidar com séries não estacionárias é a diferenciação. Calculamos:\n",
        "\n",
        "$$\n",
        "Y'(t) = Y(t) - Y(t-1)\n",
        "$$\n",
        "\n",
        "e fazemos previsões em $Y'(t)$ ao invés de $Y(t)$. Para obter a previsão de $Y(t)$, precisamos fazer o processo inverso: somar a previsão de $Y'(t)$ com o valor anterior de $Y(t-1)$.\n",
        "\n",
        "$$\n",
        "\\hat{Y(t)} = \\hat{Y'}(t) + \\hat{Y}(t-1), \\quad \\hat{Y}(0) \\text{ conhecido}\n",
        "$$\n",
        "\n",
        "Com sktime, isso é extremamente fácil. Aqui, vamos usar um **transformador** chamado `Differencer`."
      ]
    },
    {
      "cell_type": "code",
      "metadata": {},
      "source": [
        "from sktime.transformations.series.difference import Differencer\n",
        "diff = Differencer()\n",
        "diff.fit(y_train)"
      ],
      "execution_count": null,
      "outputs": []
    },
    {
      "cell_type": "code",
      "metadata": {},
      "source": [
        "y_train_diff = diff.transform(y_train)\n",
        "\n",
        "plot_series(y_train, y_train_diff, labels=[\"Original\", \"Diferenciado\"])"
      ],
      "execution_count": null,
      "outputs": []
    },
    {
      "cell_type": "markdown",
      "metadata": {},
      "source": [
        "## Criando um pipeline com diferenciação e Naive\n",
        "\n",
        "Agora, podemos criar um modelo de forecasting mais complexo, composto por dois passos:\n",
        "\n",
        "* Diferenciação dos dados\n",
        "* Modelo Naive aplicado nos dados diferenciados\n",
        "\n",
        "Para isso, usamos a classe `TransformedTargetForecaster`, que cria um pipeline de transformadores e um modelo de previsão."
      ]
    },
    {
      "cell_type": "code",
      "metadata": {},
      "source": [
        "from sktime.forecasting.compose import TransformedTargetForecaster\n",
        "\n",
        "model = TransformedTargetForecaster(steps=[\n",
        "    (\"differencer\", Differencer()),\n",
        "    (\"naive\", NaiveForecaster(strategy=\"mean\", window_length=24))\n",
        "])\n",
        "model.fit(y_train)"
      ],
      "execution_count": null,
      "outputs": []
    },
    {
      "cell_type": "markdown",
      "metadata": {},
      "source": [
        "Ou apenas:"
      ]
    },
    {
      "cell_type": "code",
      "metadata": {},
      "source": [
        "model = Differencer() * NaiveForecaster(strategy=\"mean\", window_length=24)\n",
        "model.fit(y_train)"
      ],
      "execution_count": null,
      "outputs": []
    },
    {
      "cell_type": "markdown",
      "metadata": {},
      "source": [
        "E agora podemos prever:"
      ]
    },
    {
      "cell_type": "code",
      "metadata": {},
      "source": [
        "y_pred = model.predict(fh=y_test.index)\n",
        "plot_series(y_train, y_test, y_pred, labels=[\"Treino\", \"Teste\", \"Previsão Naive com diferenciação\"])"
      ],
      "execution_count": null,
      "outputs": []
    },
    {
      "cell_type": "markdown",
      "metadata": {},
      "source": [
        "Existem ainda alguns problemas com a diferenciação. Note que a variância da série temporal diferenciada não é constante ao longo do tempo. Aqui, podemos combinar nossa transformação logarítmica com a diferenciação. \n",
        "\n",
        "Primeiro, vamos criar um transformador que combina as duas transformações:"
      ]
    },
    {
      "cell_type": "code",
      "metadata": {},
      "source": [
        "from sktime.transformations.compose import TransformerPipeline\n",
        "\n",
        "log_diff = TransformerPipeline(steps=[\n",
        "    (\"log\", LogTransformer()),\n",
        "    (\"diff\", Differencer())\n",
        "])\n",
        "log_diff.fit(y_train)"
      ],
      "execution_count": null,
      "outputs": []
    },
    {
      "cell_type": "code",
      "metadata": {},
      "source": [
        "y_train_log_diff = log_diff.transform(y_train)\n",
        "plot_series(y_train_log_diff, labels=[\"Log + Diferenciado\"])"
      ],
      "execution_count": null,
      "outputs": []
    },
    {
      "cell_type": "markdown",
      "metadata": {},
      "source": [
        "Para fazer forecast, criamos um pipeline com o transformador combinado e o modelo Naive:"
      ]
    },
    {
      "cell_type": "code",
      "metadata": {},
      "source": [
        "model = log_diff * NaiveForecaster(strategy=\"mean\", window_length=24)\n",
        "model.fit(y_train)\n",
        "y_pred = model.predict(fh=y_test.index)\n",
        "plot_series(y_train, y_test, y_pred, labels=[\"Treino\", \"Teste\", \"Previsão Naive com log + diferenciação\"])"
      ],
      "execution_count": null,
      "outputs": []
    }
  ],
  "metadata": {
    "kernelspec": {
      "name": "python3",
      "language": "python",
      "display_name": "Python 3 (ipykernel)",
      "path": "/Users/felipeangelim/Workspace/python_brasil_2025/.venv/share/jupyter/kernels/python3"
    }
  },
  "nbformat": 4,
  "nbformat_minor": 4
}