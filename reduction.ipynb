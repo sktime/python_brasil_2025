{
  "cells": [
    {
      "cell_type": "markdown",
      "metadata": {},
      "source": [
        "# Modelos de Machine Learning"
      ]
    },
    {
      "cell_type": "code",
      "metadata": {},
      "source": [
        "from tsbook.datasets.retail import SyntheticRetail\n",
        "from sktime.utils.plotting import plot_series\n",
        "from sktime.forecasting.naive import NaiveForecaster\n",
        "\n",
        "dataset = SyntheticRetail(\"univariate\")\n",
        "y_train, X_train, y_test, X_test = dataset.load(\n",
        "    \"y_train\", \"X_train\", \"y_test\", \"X_test\"\n",
        ")\n",
        "\n",
        "X_train"
      ],
      "execution_count": null,
      "outputs": []
    },
    {
      "cell_type": "code",
      "metadata": {},
      "source": [
        "from tsbook.forecasting.global_reduction import GlobalReductionForecaster\n",
        "from sklearn.ensemble import RandomForestRegressor\n",
        "from sktime.transformations.series.difference import Differencer\n",
        "\n",
        "regressor = RandomForestRegressor(n_estimators=100, random_state=42)\n",
        "model = Differencer() * GlobalReductionForecaster(\n",
        "    regressor,\n",
        "    window_length=30,\n",
        "    steps_ahead=1,\n",
        ")\n",
        "\n",
        "model.fit(y_train, X=X_train)\n",
        "y_pred = model.predict(fh=y_test.index, X=X_test)"
      ],
      "execution_count": null,
      "outputs": []
    },
    {
      "cell_type": "code",
      "metadata": {},
      "source": [
        "plot_series(\n",
        "    y_train, y_test, y_pred, labels=[\"Treino\", \"Teste\", \"Previsão com ML + Diferença\"]\n",
        ")"
      ],
      "execution_count": null,
      "outputs": []
    },
    {
      "cell_type": "code",
      "metadata": {},
      "source": [
        "import numpy as np\n",
        "from typing import Callable, Tuple\n",
        "\n",
        "model = GlobalReductionForecaster(\n",
        "    regressor,\n",
        "    window_length=30,\n",
        "    steps_ahead=1,\n",
        "    normalization_strategy=\"divide_mean\",\n",
        ")\n",
        "\n",
        "model.fit(y_train, X=X_train)\n",
        "y_pred = model.predict(fh=y_test.index, X=X_test)"
      ],
      "execution_count": null,
      "outputs": []
    },
    {
      "cell_type": "code",
      "metadata": {},
      "source": [
        "plot_series(\n",
        "    y_train, y_test, y_pred, labels=[\"Treino\", \"Teste\", \"Previsão com ML + Diferença + Normalização\"]\n",
        ")"
      ],
      "execution_count": null,
      "outputs": []
    },
    {
      "cell_type": "code",
      "metadata": {},
      "source": [
        "from tsbook.forecasting.global_reduction import GlobalReductionForecaster\n",
        "from typing import Optional\n",
        "\n",
        "\n",
        "model = GlobalReductionForecaster(\n",
        "    regressor,\n",
        "    window_length=30,\n",
        "    steps_ahead=12,\n",
        "    normalization_strategy=\"divide_mean\",\n",
        ")\n",
        "\n",
        "model.fit(y_train, X=X_train)\n",
        "y_pred = model.predict(fh=y_test.index, X=X_test)"
      ],
      "execution_count": null,
      "outputs": []
    },
    {
      "cell_type": "code",
      "metadata": {},
      "source": [
        "plot_series(\n",
        "    y_train,\n",
        "    y_test,\n",
        "    y_pred,\n",
        "    labels=[\"Treino\", \"Teste\", \"Previsão com ML + Diferença + Normalização\"],\n",
        ")"
      ],
      "execution_count": null,
      "outputs": []
    }
  ],
  "metadata": {
    "kernelspec": {
      "display_name": "Python 3",
      "language": "python",
      "name": "python3"
    }
  },
  "nbformat": 4,
  "nbformat_minor": 4
}